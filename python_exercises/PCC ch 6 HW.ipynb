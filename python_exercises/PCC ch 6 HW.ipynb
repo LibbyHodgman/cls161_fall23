{
 "cells": [
  {
   "cell_type": "markdown",
   "id": "29c11cb5",
   "metadata": {},
   "source": [
    "# Chapter 6 HW"
   ]
  },
  {
   "cell_type": "markdown",
   "id": "5ba3f347",
   "metadata": {},
   "source": [
    "## 6-1"
   ]
  },
  {
   "cell_type": "code",
   "execution_count": 2,
   "id": "893f4eca",
   "metadata": {},
   "outputs": [],
   "source": [
    "friend= {'first_name': 'Grayson', 'last_name': 'Pitt', 'age': 24, 'city': 'Wellesley'}"
   ]
  },
  {
   "cell_type": "code",
   "execution_count": 3,
   "id": "fa0927e5",
   "metadata": {},
   "outputs": [
    {
     "name": "stdout",
     "output_type": "stream",
     "text": [
      "Grayson\n",
      "Pitt\n",
      "24\n",
      "Wellesley\n"
     ]
    }
   ],
   "source": [
    "print(friend['first_name'])\n",
    "print(friend['last_name'])\n",
    "print(friend['age'])\n",
    "print(friend['city'])"
   ]
  },
  {
   "cell_type": "markdown",
   "id": "918fb5af",
   "metadata": {},
   "source": [
    "## 6-2"
   ]
  },
  {
   "cell_type": "code",
   "execution_count": 4,
   "id": "80fc40ad",
   "metadata": {},
   "outputs": [],
   "source": [
    "fav_num={'libby': 20, 'marissa': 16, 'chris': 32, 'romy': 64}"
   ]
  },
  {
   "cell_type": "code",
   "execution_count": 5,
   "id": "c9070991",
   "metadata": {},
   "outputs": [
    {
     "name": "stdout",
     "output_type": "stream",
     "text": [
      "20\n"
     ]
    }
   ],
   "source": [
    "print(fav_num['libby'])"
   ]
  },
  {
   "cell_type": "code",
   "execution_count": 7,
   "id": "93a5e406",
   "metadata": {},
   "outputs": [
    {
     "name": "stdout",
     "output_type": "stream",
     "text": [
      "libby 20\n",
      "marissa 16\n",
      "chris 32\n",
      "romy 64\n"
     ]
    }
   ],
   "source": [
    "print('libby', fav_num['libby'])\n",
    "print('marissa', fav_num['marissa'])\n",
    "print('chris', fav_num['chris'])\n",
    "print('romy', fav_num['romy'])"
   ]
  },
  {
   "cell_type": "markdown",
   "id": "8dc554df",
   "metadata": {},
   "source": [
    "## 6-3"
   ]
  },
  {
   "cell_type": "code",
   "execution_count": 8,
   "id": "30227ee8",
   "metadata": {},
   "outputs": [],
   "source": [
    "glossary={'string': 'series of characters in quotes', 'variable': 'label for something', 'list': 'data structure', 'boolean': 'true or false', 'conditionals': 'if, else, elif'}"
   ]
  },
  {
   "cell_type": "code",
   "execution_count": 18,
   "id": "bc8ca8c7",
   "metadata": {},
   "outputs": [
    {
     "name": "stdout",
     "output_type": "stream",
     "text": [
      "string : series of characters in quotes\n",
      "variable : label for something\n",
      "list : data structure\n",
      "boolean : true or false\n",
      "conditionals : if, else, elif\n"
     ]
    }
   ],
   "source": [
    "print('string',':', glossary['string'])\n",
    "print('variable', ':', glossary['variable'])\n",
    "print('list', ':', glossary['list'])\n",
    "print('boolean', ':', glossary['boolean'])\n",
    "print('conditionals', ':', glossary['conditionals'])"
   ]
  },
  {
   "cell_type": "markdown",
   "id": "aba25775",
   "metadata": {},
   "source": [
    "## 6-4"
   ]
  },
  {
   "cell_type": "code",
   "execution_count": null,
   "id": "cb262a0b",
   "metadata": {},
   "outputs": [],
   "source": [
    "for k, v in glossary.items():\n",
    "    print('\\nkey: ' + k)\n",
    "    print('value: ' + v)"
   ]
  },
  {
   "cell_type": "code",
   "execution_count": 24,
   "id": "83ad7010",
   "metadata": {},
   "outputs": [],
   "source": [
    "glossary['integer']= 'whole number'"
   ]
  },
  {
   "cell_type": "code",
   "execution_count": 25,
   "id": "ff478c12",
   "metadata": {},
   "outputs": [],
   "source": [
    "glossary['floats']= 'decimal number'\n",
    "glossary['for loop']= 'goes through dictionary'\n",
    "glossary['function']= 'code that you can reuse'\n",
    "glossary['import']= 'imports outside code to project'"
   ]
  },
  {
   "cell_type": "code",
   "execution_count": 26,
   "id": "f88b015d",
   "metadata": {},
   "outputs": [
    {
     "name": "stdout",
     "output_type": "stream",
     "text": [
      "\n",
      "key: string\n",
      "value: series of characters in quotes\n",
      "\n",
      "key: variable\n",
      "value: label for something\n",
      "\n",
      "key: list\n",
      "value: data structure\n",
      "\n",
      "key: boolean\n",
      "value: true or false\n",
      "\n",
      "key: conditionals\n",
      "value: if, else, elif\n",
      "\n",
      "key: integer\n",
      "value: whole number\n",
      "\n",
      "key: floats\n",
      "value: decimal number\n",
      "\n",
      "key: for loop\n",
      "value: goes through dictionary\n",
      "\n",
      "key: function\n",
      "value: code that you can reuse\n",
      "\n",
      "key: import\n",
      "value: imports outside code to project\n"
     ]
    }
   ],
   "source": [
    "for k, v in glossary.items():\n",
    "    print('\\nkey: ' + k)\n",
    "    print('value: ' + v)"
   ]
  },
  {
   "cell_type": "markdown",
   "id": "6c07f545",
   "metadata": {},
   "source": [
    "## 6-5"
   ]
  },
  {
   "cell_type": "code",
   "execution_count": 27,
   "id": "4bd208f8",
   "metadata": {},
   "outputs": [],
   "source": [
    "rivers= {'nile': 'egypt', 'mississippi': 'mississippi', 'amazon': 'brazil'}"
   ]
  },
  {
   "cell_type": "code",
   "execution_count": 34,
   "id": "6a194619",
   "metadata": {},
   "outputs": [
    {
     "name": "stdout",
     "output_type": "stream",
     "text": [
      "The Nile River runs through Egypt\n",
      "The Mississippi River runs through Mississippi\n",
      "The Amazon River runs through Brazil\n"
     ]
    }
   ],
   "source": [
    "for k, v in rivers.items():\n",
    "    print('The ' + k.title() + ' River runs through ' + v.title())"
   ]
  },
  {
   "cell_type": "markdown",
   "id": "4597f142",
   "metadata": {},
   "source": [
    "## 6-7"
   ]
  },
  {
   "cell_type": "code",
   "execution_count": 39,
   "id": "8bf79433",
   "metadata": {},
   "outputs": [],
   "source": [
    "friend_2={'first_name': 'Marissa', 'last_name': 'Mizzolo', 'age': 24, 'city': 'Needham'}\n",
    "friend_3={'first_name': 'Amber', 'last_name': 'Walsh', 'age': 24, 'city': 'Hopkington'}"
   ]
  },
  {
   "cell_type": "code",
   "execution_count": 40,
   "id": "1fcaa1dd",
   "metadata": {},
   "outputs": [],
   "source": [
    "people=[friend, friend_2, friend_3]"
   ]
  },
  {
   "cell_type": "code",
   "execution_count": 41,
   "id": "289790b4",
   "metadata": {},
   "outputs": [
    {
     "name": "stdout",
     "output_type": "stream",
     "text": [
      "{'first_name': 'Grayson', 'last_name': 'Pitt', 'age': 24, 'city': 'Wellesley'}\n",
      "{'first_name': 'Marissa', 'last_name': 'Mizzolo', 'age': 24, 'city': 'Needham'}\n",
      "{'first_name': 'Amber', 'last_name': 'Walsh', 'age': 24, 'city': 'Hopkington'}\n"
     ]
    }
   ],
   "source": [
    "for friend in people:\n",
    "    print(friend)"
   ]
  },
  {
   "cell_type": "markdown",
   "id": "8fad9811",
   "metadata": {},
   "source": [
    "## 6-8"
   ]
  },
  {
   "cell_type": "code",
   "execution_count": 42,
   "id": "7623c470",
   "metadata": {},
   "outputs": [],
   "source": [
    "nikita={'animal': 'dog', 'owner': 'donna'}\n",
    "tia={'animal': 'cat', 'owner': 'ryan'}\n",
    "ralph={'animal': 'horse', 'owner': 'kendall'}\n",
    "sassy={'animal': 'rat', 'owner': 'maddie'}"
   ]
  },
  {
   "cell_type": "code",
   "execution_count": 43,
   "id": "93a09b9d",
   "metadata": {},
   "outputs": [],
   "source": [
    "pets=[nikita, tia, ralph, sassy]"
   ]
  },
  {
   "cell_type": "code",
   "execution_count": 44,
   "id": "f9d521f0",
   "metadata": {},
   "outputs": [
    {
     "name": "stdout",
     "output_type": "stream",
     "text": [
      "{'animal': 'dog', 'owner': 'donna'}\n",
      "{'animal': 'cat', 'owner': 'ryan'}\n",
      "{'animal': 'horse', 'owner': 'kendall'}\n",
      "{'animal': 'rat', 'owner': 'maddie'}\n"
     ]
    }
   ],
   "source": [
    "for pet in pets:\n",
    "    print(pet)"
   ]
  },
  {
   "cell_type": "markdown",
   "id": "68763bb6",
   "metadata": {},
   "source": [
    "## 6-9"
   ]
  },
  {
   "cell_type": "code",
   "execution_count": 52,
   "id": "c00ebdc1",
   "metadata": {},
   "outputs": [],
   "source": [
    "favorite_places={'libby': ['room', 'barn'], 'gray':['library'], 'marissa': ['library', 'work']}"
   ]
  },
  {
   "cell_type": "code",
   "execution_count": 57,
   "id": "1e4c38c9",
   "metadata": {},
   "outputs": [
    {
     "name": "stdout",
     "output_type": "stream",
     "text": [
      "\n",
      "Libby\n",
      "\tLibby\n",
      "\tGray\n",
      "\tMarissa\n",
      "\n",
      "Gray\n",
      "\tLibby\n",
      "\tGray\n",
      "\tMarissa\n",
      "\n",
      "Marissa\n",
      "\tLibby\n",
      "\tGray\n",
      "\tMarissa\n"
     ]
    }
   ],
   "source": [
    "for name, place in favorite_places.items():\n",
    "    print('\\n' + name.title())\n",
    "    for place in favorite_places:\n",
    "        print('\\t' + place.title())"
   ]
  },
  {
   "cell_type": "code",
   "execution_count": 55,
   "id": "ac5fa084",
   "metadata": {},
   "outputs": [],
   "source": [
    "# can't get places to come up???"
   ]
  },
  {
   "cell_type": "markdown",
   "id": "eb980447",
   "metadata": {},
   "source": [
    "## 6-11"
   ]
  },
  {
   "cell_type": "code",
   "execution_count": 73,
   "id": "11db3c01",
   "metadata": {},
   "outputs": [],
   "source": [
    "cities={'boston': {'location': 'USA', 'population': 'six hundred seventy five thousand', 'fact': 'home to the Bruins'}, 'new york city': {'location': 'USA', 'population': 'eight point 8 million', 'fact': 'home to the Yankees'}, 'chicago': {'location': 'USA', 'population': 'two point seventy five million', 'fact': 'home to the Cubs'}}"
   ]
  },
  {
   "cell_type": "code",
   "execution_count": 74,
   "id": "3f5cb24a",
   "metadata": {},
   "outputs": [
    {
     "name": "stdout",
     "output_type": "stream",
     "text": [
      "Boston: USA, six hundred seventy five thousand, home to the Bruins\n",
      "New York City: USA, eight point 8 million, home to the Yankees\n",
      "Chicago: USA, two point seventy five million, home to the Cubs\n"
     ]
    }
   ],
   "source": [
    "for city, city_info in cities.items():\n",
    "    location=city_info['location']\n",
    "    population=city_info['population']\n",
    "    fact=city_info['fact']\n",
    "    print(city.title() + ': ' + location + \", \" + population + \", \" + fact)"
   ]
  },
  {
   "cell_type": "code",
   "execution_count": null,
   "id": "04710adc",
   "metadata": {},
   "outputs": [],
   "source": [
    "# wouldn't work with integer in population"
   ]
  }
 ],
 "metadata": {
  "kernelspec": {
   "display_name": "Python 3 (ipykernel)",
   "language": "python",
   "name": "python3"
  },
  "language_info": {
   "codemirror_mode": {
    "name": "ipython",
    "version": 3
   },
   "file_extension": ".py",
   "mimetype": "text/x-python",
   "name": "python",
   "nbconvert_exporter": "python",
   "pygments_lexer": "ipython3",
   "version": "3.11.4"
  }
 },
 "nbformat": 4,
 "nbformat_minor": 5
}
