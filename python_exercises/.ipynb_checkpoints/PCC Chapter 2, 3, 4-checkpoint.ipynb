{
 "cells": [
  {
   "cell_type": "markdown",
   "id": "57fd721e",
   "metadata": {},
   "source": [
    "# Chapter 2 Homework"
   ]
  },
  {
   "cell_type": "markdown",
   "id": "cc435409",
   "metadata": {},
   "source": [
    "## 2-1"
   ]
  },
  {
   "cell_type": "code",
   "execution_count": 1,
   "id": "9523288e",
   "metadata": {},
   "outputs": [
    {
     "name": "stdout",
     "output_type": "stream",
     "text": [
      "I've already done this\n"
     ]
    }
   ],
   "source": [
    "message = \"I've already done this\"\n",
    "print(message)"
   ]
  },
  {
   "cell_type": "markdown",
   "id": "46a8ba5f",
   "metadata": {},
   "source": [
    "## 2-2"
   ]
  },
  {
   "cell_type": "code",
   "execution_count": 1,
   "id": "44d05d09",
   "metadata": {},
   "outputs": [
    {
     "name": "stdout",
     "output_type": "stream",
     "text": [
      "I've already done this too.\n"
     ]
    }
   ],
   "source": [
    "message = \"I've already done this too.\"\n",
    "print(message)"
   ]
  },
  {
   "cell_type": "markdown",
   "id": "f8c7eca4",
   "metadata": {},
   "source": [
    "## 2-3"
   ]
  },
  {
   "cell_type": "code",
   "execution_count": 5,
   "id": "8294d516",
   "metadata": {},
   "outputs": [
    {
     "name": "stdout",
     "output_type": "stream",
     "text": [
      "Hello, Marissa how are you?\n"
     ]
    }
   ],
   "source": [
    "name = \"Marissa\"\n",
    "print(\"Hello, \" + name + \" how are you?\")"
   ]
  },
  {
   "cell_type": "markdown",
   "id": "5792b05e",
   "metadata": {},
   "source": [
    "## 2-4"
   ]
  },
  {
   "cell_type": "code",
   "execution_count": 6,
   "id": "cbaf4521",
   "metadata": {},
   "outputs": [
    {
     "name": "stdout",
     "output_type": "stream",
     "text": [
      "marissa\n",
      "MARISSA\n",
      "Marissa\n"
     ]
    }
   ],
   "source": [
    "print(name.lower())\n",
    "print(name.upper())\n",
    "print(name.title())"
   ]
  },
  {
   "cell_type": "markdown",
   "id": "2972dc48",
   "metadata": {},
   "source": [
    "## 2-5"
   ]
  },
  {
   "cell_type": "code",
   "execution_count": 7,
   "id": "818b9e78",
   "metadata": {},
   "outputs": [
    {
     "name": "stdout",
     "output_type": "stream",
     "text": [
      "Oscar Wilde once said, 'It is what you read when you don't have to that determines what you will be when you can't help it.'\n"
     ]
    }
   ],
   "source": [
    "print(\"Oscar Wilde once said, 'It is what you read when you don't have to that determines what you will be when you can't help it.'\")"
   ]
  },
  {
   "cell_type": "markdown",
   "id": "b483a013",
   "metadata": {},
   "source": [
    "## 2-6"
   ]
  },
  {
   "cell_type": "code",
   "execution_count": 12,
   "id": "9dd6939d",
   "metadata": {},
   "outputs": [],
   "source": [
    "famous_person = \"Oscar Wilde\"\n",
    "message = \"'It is what you read when you don't have to that determines what you will be when you can't help it.'\""
   ]
  },
  {
   "cell_type": "code",
   "execution_count": 16,
   "id": "d52e4842",
   "metadata": {},
   "outputs": [
    {
     "name": "stdout",
     "output_type": "stream",
     "text": [
      "Oscar Wilde once said, 'It is what you read when you don't have to that determines what you will be when you can't help it.'\n"
     ]
    }
   ],
   "source": [
    "print(famous_person + \" once said, \" + message)"
   ]
  },
  {
   "cell_type": "markdown",
   "id": "0b2f665b",
   "metadata": {},
   "source": [
    "## 2-7"
   ]
  },
  {
   "cell_type": "code",
   "execution_count": 28,
   "id": "03c180d9",
   "metadata": {},
   "outputs": [],
   "source": [
    "author = \" Leigh Bardugo \""
   ]
  },
  {
   "cell_type": "code",
   "execution_count": 29,
   "id": "2bbb0752",
   "metadata": {},
   "outputs": [
    {
     "data": {
      "text/plain": [
       "' Leigh Bardugo '"
      ]
     },
     "execution_count": 29,
     "metadata": {},
     "output_type": "execute_result"
    }
   ],
   "source": [
    "author"
   ]
  },
  {
   "cell_type": "code",
   "execution_count": 25,
   "id": "759ccdcf",
   "metadata": {},
   "outputs": [
    {
     "name": "stdout",
     "output_type": "stream",
     "text": [
      "\tLeigh Bardugo\n"
     ]
    }
   ],
   "source": [
    "print(\"\\tLeigh Bardugo\")"
   ]
  },
  {
   "cell_type": "code",
   "execution_count": 26,
   "id": "9f86c6ec",
   "metadata": {},
   "outputs": [
    {
     "name": "stdout",
     "output_type": "stream",
     "text": [
      "\n",
      "Leigh Bardugo\n"
     ]
    }
   ],
   "source": [
    "print(\"\\nLeigh Bardugo\")"
   ]
  },
  {
   "cell_type": "code",
   "execution_count": 30,
   "id": "f033aab0",
   "metadata": {},
   "outputs": [
    {
     "name": "stdout",
     "output_type": "stream",
     "text": [
      " Leigh Bardugo\n",
      "Leigh Bardugo \n"
     ]
    }
   ],
   "source": [
    "print(author.rstrip())\n",
    "print(author.lstrip())"
   ]
  },
  {
   "cell_type": "markdown",
   "id": "95ae7934",
   "metadata": {},
   "source": [
    "## 2-10"
   ]
  },
  {
   "cell_type": "code",
   "execution_count": 31,
   "id": "012fd946",
   "metadata": {},
   "outputs": [],
   "source": [
    "# Libby Hodgman 9/26"
   ]
  },
  {
   "cell_type": "markdown",
   "id": "537b9b0e",
   "metadata": {},
   "source": [
    "# Chapter 3 Homework"
   ]
  },
  {
   "cell_type": "markdown",
   "id": "375d8cad",
   "metadata": {},
   "source": [
    "## 3-1"
   ]
  },
  {
   "cell_type": "code",
   "execution_count": 36,
   "id": "cc13b8bf",
   "metadata": {},
   "outputs": [],
   "source": [
    "friends= ['Marissa', 'Gray', 'Amber']"
   ]
  },
  {
   "cell_type": "code",
   "execution_count": 37,
   "id": "fefb2a9d",
   "metadata": {},
   "outputs": [
    {
     "name": "stdout",
     "output_type": "stream",
     "text": [
      "Marissa\n",
      "Gray\n",
      "Amber\n"
     ]
    }
   ],
   "source": [
    "print(friends[0])\n",
    "print(friends[1])\n",
    "print(friends[2])"
   ]
  },
  {
   "cell_type": "markdown",
   "id": "1b497b56",
   "metadata": {},
   "source": [
    "## 3-2"
   ]
  },
  {
   "cell_type": "code",
   "execution_count": 44,
   "id": "ad7cc5ad",
   "metadata": {},
   "outputs": [
    {
     "name": "stdout",
     "output_type": "stream",
     "text": [
      "Hello, Marissa\n",
      "Hello, Gray\n",
      "Hello, Amber\n"
     ]
    }
   ],
   "source": [
    "print(\"Hello, \" + friends[0])\n",
    "print(\"Hello, \" + friends[1])\n",
    "print(\"Hello, \" + friends[2])"
   ]
  },
  {
   "cell_type": "markdown",
   "id": "cc5692bf",
   "metadata": {},
   "source": [
    "## 3-3"
   ]
  },
  {
   "cell_type": "code",
   "execution_count": 45,
   "id": "c336a126",
   "metadata": {},
   "outputs": [],
   "source": [
    "transports=['car', 'horse', 'bus', 'train']"
   ]
  },
  {
   "cell_type": "code",
   "execution_count": 46,
   "id": "2b7ce93e",
   "metadata": {},
   "outputs": [
    {
     "name": "stdout",
     "output_type": "stream",
     "text": [
      "I would like to own a horse some day.\n"
     ]
    }
   ],
   "source": [
    "print(\"I would like to own a \" + transports[1] + \" some day.\")"
   ]
  },
  {
   "cell_type": "code",
   "execution_count": 48,
   "id": "27606e63",
   "metadata": {},
   "outputs": [
    {
     "name": "stdout",
     "output_type": "stream",
     "text": [
      "I drive my parents' car\n"
     ]
    }
   ],
   "source": [
    "print(\"I drive my parents' \" + transports[0])"
   ]
  },
  {
   "cell_type": "code",
   "execution_count": 49,
   "id": "06478045",
   "metadata": {},
   "outputs": [
    {
     "name": "stdout",
     "output_type": "stream",
     "text": [
      "I do not like the bus\n"
     ]
    }
   ],
   "source": [
    "print(\"I do not like the \" + transports[2])"
   ]
  },
  {
   "cell_type": "markdown",
   "id": "7cfa5b54",
   "metadata": {},
   "source": [
    "## 3-4"
   ]
  },
  {
   "cell_type": "code",
   "execution_count": 50,
   "id": "bcf2453b",
   "metadata": {},
   "outputs": [],
   "source": [
    "guests=['Da Vinci', 'Hypatia', 'Homer']"
   ]
  },
  {
   "cell_type": "code",
   "execution_count": 51,
   "id": "2c180520",
   "metadata": {},
   "outputs": [
    {
     "name": "stdout",
     "output_type": "stream",
     "text": [
      "Hello, Da Vinci would you like to come to dinner?\n",
      "Hello, Hypatia would you like to come to dinner?\n",
      "Hello, Homer would you like to come to dinner?\n"
     ]
    }
   ],
   "source": [
    "print(\"Hello, \" + guests[0] + \" would you like to come to dinner?\")\n",
    "print(\"Hello, \" + guests[1] + \" would you like to come to dinner?\")\n",
    "print(\"Hello, \" + guests[2] + \" would you like to come to dinner?\")"
   ]
  },
  {
   "cell_type": "markdown",
   "id": "d31afe2e",
   "metadata": {},
   "source": [
    "## 3-5"
   ]
  },
  {
   "cell_type": "code",
   "execution_count": 52,
   "id": "caab01dc",
   "metadata": {},
   "outputs": [
    {
     "name": "stdout",
     "output_type": "stream",
     "text": [
      "Unfortunately, Homer is unable to make the dinner.\n"
     ]
    }
   ],
   "source": [
    "print(\"Unfortunately, \" + guests[2] + \" is unable to make the dinner.\")"
   ]
  },
  {
   "cell_type": "code",
   "execution_count": 57,
   "id": "a64aee6f",
   "metadata": {},
   "outputs": [],
   "source": [
    "guests[2]='Pericles'"
   ]
  },
  {
   "cell_type": "code",
   "execution_count": 58,
   "id": "6842bd60",
   "metadata": {},
   "outputs": [
    {
     "name": "stdout",
     "output_type": "stream",
     "text": [
      "['Da Vinci', 'Hypatia', 'Pericles']\n"
     ]
    }
   ],
   "source": [
    "print(guests)"
   ]
  },
  {
   "cell_type": "code",
   "execution_count": 59,
   "id": "9cb27ed6",
   "metadata": {},
   "outputs": [
    {
     "name": "stdout",
     "output_type": "stream",
     "text": [
      "Hello, Da Vinci would you still like to come to dinner?\n",
      "Hello, Hypatia would you still like to come to dinner?\n",
      "Hello, Pericles would you like to come to dinner?\n"
     ]
    }
   ],
   "source": [
    "print(\"Hello, \" + guests[0] + \" would you still like to come to dinner?\")\n",
    "print(\"Hello, \" + guests[1] + \" would you still like to come to dinner?\")\n",
    "print(\"Hello, \" + guests[2] + \" would you like to come to dinner?\")"
   ]
  },
  {
   "cell_type": "markdown",
   "id": "d0f406e2",
   "metadata": {},
   "source": [
    "## 3-6"
   ]
  },
  {
   "cell_type": "code",
   "execution_count": 63,
   "id": "3f124c0f",
   "metadata": {},
   "outputs": [
    {
     "name": "stdout",
     "output_type": "stream",
     "text": [
      "To everyone, we have found a bigger dining table!\n"
     ]
    }
   ],
   "source": [
    "print(\"To everyone, we have found a bigger dining table!\")"
   ]
  },
  {
   "cell_type": "code",
   "execution_count": 64,
   "id": "ebae98dd",
   "metadata": {},
   "outputs": [],
   "source": [
    "guests.append('Marcus Aurelius')\n",
    "guests.insert(0, 'Alfred the Great')\n",
    "guests.insert(2, 'Anne Bonny')"
   ]
  },
  {
   "cell_type": "code",
   "execution_count": 65,
   "id": "70e895d0",
   "metadata": {},
   "outputs": [
    {
     "name": "stdout",
     "output_type": "stream",
     "text": [
      "['Alfred the Great', 'Da Vinci', 'Anne Bonny', 'Hypatia', 'Pericles', 'Marcus Aurelius']\n"
     ]
    }
   ],
   "source": [
    "print(guests)"
   ]
  },
  {
   "cell_type": "code",
   "execution_count": 66,
   "id": "a9752744",
   "metadata": {},
   "outputs": [
    {
     "name": "stdout",
     "output_type": "stream",
     "text": [
      "Hello, Alfred the Great would you like to come to dinner?\n",
      "Hello, Anne Bonny would you like to come to dinner?\n",
      "Hello, Marcus Aurelius would you like to come to dinner?\n"
     ]
    }
   ],
   "source": [
    "print(\"Hello, \" + guests[0] + \" would you like to come to dinner?\")\n",
    "print(\"Hello, \" + guests[2] + \" would you like to come to dinner?\")\n",
    "print(\"Hello, \" + guests[5] + \" would you like to come to dinner?\")"
   ]
  },
  {
   "cell_type": "markdown",
   "id": "bc3a0dc1",
   "metadata": {},
   "source": [
    "## 3-7"
   ]
  },
  {
   "cell_type": "code",
   "execution_count": 67,
   "id": "a7dea7ed",
   "metadata": {},
   "outputs": [
    {
     "name": "stdout",
     "output_type": "stream",
     "text": [
      "Unfortunately, I can only invite two people!\n"
     ]
    }
   ],
   "source": [
    "print(\"Unfortunately, I can only invite two people!\")"
   ]
  },
  {
   "cell_type": "code",
   "execution_count": 68,
   "id": "7caf0600",
   "metadata": {},
   "outputs": [],
   "source": [
    "popped_guests= guests.pop()"
   ]
  },
  {
   "cell_type": "code",
   "execution_count": 69,
   "id": "a7f65be9",
   "metadata": {},
   "outputs": [
    {
     "name": "stdout",
     "output_type": "stream",
     "text": [
      "['Alfred the Great', 'Da Vinci', 'Anne Bonny', 'Hypatia', 'Pericles']\n"
     ]
    }
   ],
   "source": [
    "print(guests)"
   ]
  },
  {
   "cell_type": "code",
   "execution_count": 70,
   "id": "9b3c351b",
   "metadata": {},
   "outputs": [
    {
     "name": "stdout",
     "output_type": "stream",
     "text": [
      "Marcus Aurelius\n"
     ]
    }
   ],
   "source": [
    "print(popped_guests)"
   ]
  },
  {
   "cell_type": "code",
   "execution_count": 72,
   "id": "b4ddadd8",
   "metadata": {},
   "outputs": [
    {
     "name": "stdout",
     "output_type": "stream",
     "text": [
      "['Alfred the Great', 'Da Vinci', 'Anne Bonny']\n"
     ]
    }
   ],
   "source": [
    "popped_guests= guests.pop()\n",
    "print(guests)"
   ]
  },
  {
   "cell_type": "code",
   "execution_count": 74,
   "id": "ee20743d",
   "metadata": {},
   "outputs": [],
   "source": [
    "guests.append('Hypatia')"
   ]
  },
  {
   "cell_type": "code",
   "execution_count": 75,
   "id": "b25f50c2",
   "metadata": {},
   "outputs": [],
   "source": [
    "popped_guests=guests.pop(0)\n",
    "popped_guests=guests.pop(1)"
   ]
  },
  {
   "cell_type": "code",
   "execution_count": 76,
   "id": "57902a0e",
   "metadata": {},
   "outputs": [
    {
     "name": "stdout",
     "output_type": "stream",
     "text": [
      "['Da Vinci', 'Hypatia']\n"
     ]
    }
   ],
   "source": [
    "print(guests)"
   ]
  },
  {
   "cell_type": "code",
   "execution_count": 77,
   "id": "c875f625",
   "metadata": {},
   "outputs": [],
   "source": [
    "del guests[0]"
   ]
  },
  {
   "cell_type": "code",
   "execution_count": 78,
   "id": "54c9aa48",
   "metadata": {},
   "outputs": [],
   "source": [
    "del guests[0]"
   ]
  },
  {
   "cell_type": "code",
   "execution_count": 79,
   "id": "c0e5c77d",
   "metadata": {},
   "outputs": [
    {
     "name": "stdout",
     "output_type": "stream",
     "text": [
      "[]\n"
     ]
    }
   ],
   "source": [
    "print(guests)"
   ]
  },
  {
   "cell_type": "markdown",
   "id": "0c5ebb58",
   "metadata": {},
   "source": [
    "## 3-8"
   ]
  },
  {
   "cell_type": "code",
   "execution_count": 83,
   "id": "452dfb10",
   "metadata": {},
   "outputs": [
    {
     "name": "stdout",
     "output_type": "stream",
     "text": [
      "['Athens', 'Alexandria', 'Meteora', 'Paros', 'Naxos']\n"
     ]
    }
   ],
   "source": [
    "locations=['Athens', 'Alexandria', 'Meteora', 'Paros', 'Naxos']\n",
    "print(locations)"
   ]
  },
  {
   "cell_type": "code",
   "execution_count": 84,
   "id": "cd285ee3",
   "metadata": {},
   "outputs": [
    {
     "name": "stdout",
     "output_type": "stream",
     "text": [
      "['Alexandria', 'Athens', 'Meteora', 'Naxos', 'Paros']\n"
     ]
    }
   ],
   "source": [
    "print(sorted(locations))"
   ]
  },
  {
   "cell_type": "code",
   "execution_count": 85,
   "id": "47a4a4e1",
   "metadata": {},
   "outputs": [
    {
     "name": "stdout",
     "output_type": "stream",
     "text": [
      "['Athens', 'Alexandria', 'Meteora', 'Paros', 'Naxos']\n"
     ]
    }
   ],
   "source": [
    "print(locations)"
   ]
  },
  {
   "cell_type": "code",
   "execution_count": 1,
   "id": "6a56571c",
   "metadata": {},
   "outputs": [
    {
     "name": "stdout",
     "output_type": "stream",
     "text": [
      "I was having issues doing the temporary reverse function\n"
     ]
    }
   ],
   "source": [
    "print(\"I was having issues doing the temporary reverse function\")"
   ]
  },
  {
   "cell_type": "code",
   "execution_count": 91,
   "id": "61cf5d32",
   "metadata": {},
   "outputs": [],
   "source": [
    "locations.reverse()"
   ]
  },
  {
   "cell_type": "code",
   "execution_count": 92,
   "id": "70baf058",
   "metadata": {},
   "outputs": [
    {
     "name": "stdout",
     "output_type": "stream",
     "text": [
      "['Naxos', 'Paros', 'Meteora', 'Alexandria', 'Athens']\n"
     ]
    }
   ],
   "source": [
    "print(locations)"
   ]
  },
  {
   "cell_type": "code",
   "execution_count": 93,
   "id": "10e2a8fc",
   "metadata": {},
   "outputs": [
    {
     "name": "stdout",
     "output_type": "stream",
     "text": [
      "['Athens', 'Alexandria', 'Meteora', 'Paros', 'Naxos']\n"
     ]
    }
   ],
   "source": [
    "locations.reverse()\n",
    "print(locations)"
   ]
  },
  {
   "cell_type": "code",
   "execution_count": 96,
   "id": "430332fc",
   "metadata": {},
   "outputs": [],
   "source": [
    "locations.sort()"
   ]
  },
  {
   "cell_type": "code",
   "execution_count": 97,
   "id": "12ef7c7e",
   "metadata": {},
   "outputs": [
    {
     "name": "stdout",
     "output_type": "stream",
     "text": [
      "['Alexandria', 'Athens', 'Meteora', 'Naxos', 'Paros']\n"
     ]
    }
   ],
   "source": [
    "print(locations)"
   ]
  },
  {
   "cell_type": "code",
   "execution_count": 99,
   "id": "adc3aedc",
   "metadata": {},
   "outputs": [
    {
     "name": "stdout",
     "output_type": "stream",
     "text": [
      "['Paros', 'Naxos', 'Meteora', 'Athens', 'Alexandria']\n"
     ]
    }
   ],
   "source": [
    "locations.sort(reverse=True)\n",
    "print(locations)"
   ]
  },
  {
   "cell_type": "markdown",
   "id": "d36e4fde",
   "metadata": {},
   "source": [
    "# Chapter 4 Homework"
   ]
  },
  {
   "cell_type": "markdown",
   "id": "371b8e6e",
   "metadata": {},
   "source": [
    "## 4-1"
   ]
  },
  {
   "cell_type": "code",
   "execution_count": 100,
   "id": "3c4d4a33",
   "metadata": {},
   "outputs": [
    {
     "name": "stdout",
     "output_type": "stream",
     "text": [
      "cheese\n",
      "pepperoni\n",
      "hawaiian\n"
     ]
    }
   ],
   "source": [
    "pizzas= ['cheese', 'pepperoni', 'hawaiian']\n",
    "for pizza in pizzas:\n",
    "    print(pizza)"
   ]
  },
  {
   "cell_type": "code",
   "execution_count": 103,
   "id": "87c54250",
   "metadata": {},
   "outputs": [
    {
     "name": "stdout",
     "output_type": "stream",
     "text": [
      "I like cheese\n",
      "I like pepperoni\n",
      "I like hawaiian\n",
      "I really like pizza!\n"
     ]
    }
   ],
   "source": [
    "for pizza in pizzas:\n",
    "    print(\"I like \" + pizza)\n",
    "print(\"I really like pizza!\")"
   ]
  },
  {
   "cell_type": "markdown",
   "id": "74f69b28",
   "metadata": {},
   "source": [
    "## 4-2"
   ]
  },
  {
   "cell_type": "code",
   "execution_count": 105,
   "id": "e608098e",
   "metadata": {},
   "outputs": [
    {
     "name": "stdout",
     "output_type": "stream",
     "text": [
      "hawk\n",
      "falcon\n",
      "humming bird\n"
     ]
    }
   ],
   "source": [
    "animals= ['hawk', 'falcon', 'humming bird']\n",
    "for animal in animals:\n",
    "    print(animal)"
   ]
  },
  {
   "cell_type": "code",
   "execution_count": 107,
   "id": "3c8c5be9",
   "metadata": {},
   "outputs": [
    {
     "name": "stdout",
     "output_type": "stream",
     "text": [
      "A hawk would make a great pet!\n",
      "A falcon would make a great pet!\n",
      "A humming bird would make a great pet!\n",
      "Any of these animals would make a great pet!\n"
     ]
    }
   ],
   "source": [
    "for animal in animals:\n",
    "    print(\"A \" + animal + \" would make a great pet!\")\n",
    "print(\"Any of these animals would make a great pet!\")"
   ]
  },
  {
   "cell_type": "markdown",
   "id": "b5dbd1bc",
   "metadata": {},
   "source": [
    "## 4-3"
   ]
  },
  {
   "cell_type": "code",
   "execution_count": 110,
   "id": "88de3ad4",
   "metadata": {},
   "outputs": [
    {
     "name": "stdout",
     "output_type": "stream",
     "text": [
      "1\n",
      "2\n",
      "3\n",
      "4\n",
      "5\n",
      "6\n",
      "7\n",
      "8\n",
      "9\n",
      "10\n",
      "11\n",
      "12\n",
      "13\n",
      "14\n",
      "15\n",
      "16\n",
      "17\n",
      "18\n",
      "19\n",
      "20\n"
     ]
    }
   ],
   "source": [
    "for value in range(1,21):\n",
    "    print(value)"
   ]
  },
  {
   "cell_type": "markdown",
   "id": "b60670a0",
   "metadata": {},
   "source": [
    "## 4-6"
   ]
  },
  {
   "cell_type": "code",
   "execution_count": 111,
   "id": "7c6727ba",
   "metadata": {},
   "outputs": [
    {
     "name": "stdout",
     "output_type": "stream",
     "text": [
      "[1, 3, 5, 7, 9, 11, 13, 15, 17, 19]\n"
     ]
    }
   ],
   "source": [
    "odd_numbers= list(range(1,21,2))\n",
    "print(odd_numbers)"
   ]
  },
  {
   "cell_type": "code",
   "execution_count": 112,
   "id": "3efd5d23",
   "metadata": {},
   "outputs": [
    {
     "name": "stdout",
     "output_type": "stream",
     "text": [
      "1\n",
      "3\n",
      "5\n",
      "7\n",
      "9\n",
      "11\n",
      "13\n",
      "15\n",
      "17\n",
      "19\n"
     ]
    }
   ],
   "source": [
    "for value in range(1,21,2):\n",
    "    print(value)"
   ]
  },
  {
   "cell_type": "markdown",
   "id": "75559e08",
   "metadata": {},
   "source": [
    "## 4-10"
   ]
  },
  {
   "cell_type": "code",
   "execution_count": 116,
   "id": "badf2b73",
   "metadata": {},
   "outputs": [
    {
     "name": "stdout",
     "output_type": "stream",
     "text": [
      "The first three items in the list are:\n",
      "['car', 'horse', 'bus']\n"
     ]
    }
   ],
   "source": [
    "print(\"The first three items in the list are:\")\n",
    "print(transports[0:3])"
   ]
  },
  {
   "cell_type": "code",
   "execution_count": 117,
   "id": "1e83fe94",
   "metadata": {},
   "outputs": [
    {
     "name": "stdout",
     "output_type": "stream",
     "text": [
      "The middle three items in the list are:\n",
      "['Naxos', 'Meteora', 'Athens']\n"
     ]
    }
   ],
   "source": [
    "print(\"The middle three items in the list are:\")\n",
    "print(locations[1:4])"
   ]
  },
  {
   "cell_type": "code",
   "execution_count": 118,
   "id": "e9c5246b",
   "metadata": {},
   "outputs": [
    {
     "name": "stdout",
     "output_type": "stream",
     "text": [
      "The middle three items in the list are:\n",
      "['Meteora', 'Athens', 'Alexandria']\n"
     ]
    }
   ],
   "source": [
    "print(\"The middle three items in the list are:\")\n",
    "print(locations[2:5])"
   ]
  },
  {
   "cell_type": "markdown",
   "id": "b0ccc540",
   "metadata": {},
   "source": [
    "## 4-11"
   ]
  },
  {
   "cell_type": "code",
   "execution_count": 119,
   "id": "dec9b32c",
   "metadata": {},
   "outputs": [],
   "source": [
    "friend_pizzas=pizzas[:]"
   ]
  },
  {
   "cell_type": "code",
   "execution_count": 120,
   "id": "0125b780",
   "metadata": {},
   "outputs": [],
   "source": [
    "friend_pizzas.append('meat lovers')"
   ]
  },
  {
   "cell_type": "code",
   "execution_count": 121,
   "id": "084d1d2d",
   "metadata": {},
   "outputs": [],
   "source": [
    "pizzas.append('vegetarian')"
   ]
  },
  {
   "cell_type": "code",
   "execution_count": 122,
   "id": "37537ab1",
   "metadata": {},
   "outputs": [
    {
     "name": "stdout",
     "output_type": "stream",
     "text": [
      "my favorite pizzas are:\n",
      "cheese\n",
      "pepperoni\n",
      "hawaiian\n",
      "vegetarian\n",
      "my friend's favorite pizzas are:\n",
      "cheese\n",
      "pepperoni\n",
      "hawaiian\n",
      "meat lovers\n"
     ]
    }
   ],
   "source": [
    "print(\"my favorite pizzas are:\")\n",
    "for pizza in pizzas:\n",
    "    print(pizza)\n",
    "print(\"my friend's favorite pizzas are:\")\n",
    "for pizza in friend_pizzas:\n",
    "    print(pizza)"
   ]
  },
  {
   "cell_type": "code",
   "execution_count": null,
   "id": "c3c04c20",
   "metadata": {},
   "outputs": [],
   "source": []
  }
 ],
 "metadata": {
  "kernelspec": {
   "display_name": "Python 3 (ipykernel)",
   "language": "python",
   "name": "python3"
  },
  "language_info": {
   "codemirror_mode": {
    "name": "ipython",
    "version": 3
   },
   "file_extension": ".py",
   "mimetype": "text/x-python",
   "name": "python",
   "nbconvert_exporter": "python",
   "pygments_lexer": "ipython3",
   "version": "3.11.4"
  }
 },
 "nbformat": 4,
 "nbformat_minor": 5
}
