{
 "cells": [
  {
   "cell_type": "markdown",
   "id": "c482f26e",
   "metadata": {},
   "source": [
    "# Chapter 5 Homework"
   ]
  },
  {
   "cell_type": "markdown",
   "id": "284c439c",
   "metadata": {},
   "source": [
    "## 5-1"
   ]
  },
  {
   "cell_type": "code",
   "execution_count": 1,
   "id": "e3815c65",
   "metadata": {},
   "outputs": [
    {
     "name": "stdout",
     "output_type": "stream",
     "text": [
      "Is car == 'subaru'? I predict True.\n",
      "True\n"
     ]
    }
   ],
   "source": [
    "car = \"subaru\"\n",
    "print(\"Is car == 'subaru'? I predict True.\")\n",
    "print(car == 'subaru')"
   ]
  },
  {
   "cell_type": "code",
   "execution_count": 2,
   "id": "8fd71caa",
   "metadata": {},
   "outputs": [
    {
     "name": "stdout",
     "output_type": "stream",
     "text": [
      "Is animal == 'dog'? I predict True.\n",
      "True\n"
     ]
    }
   ],
   "source": [
    "animal = \"dog\"\n",
    "print(\"Is animal == 'dog'? I predict True.\")\n",
    "print(animal == 'dog')"
   ]
  },
  {
   "cell_type": "code",
   "execution_count": 4,
   "id": "ec03addb",
   "metadata": {},
   "outputs": [
    {
     "name": "stdout",
     "output_type": "stream",
     "text": [
      "Is university 'Tufts'? I predict True.\n",
      "True\n"
     ]
    }
   ],
   "source": [
    "university = \"Tufts\"\n",
    "print(\"Is university 'Tufts'? I predict True.\")\n",
    "print(university == 'Tufts')"
   ]
  },
  {
   "cell_type": "code",
   "execution_count": 5,
   "id": "c8cc1e56",
   "metadata": {},
   "outputs": [
    {
     "name": "stdout",
     "output_type": "stream",
     "text": [
      "Is state 'Massachusetts'? I predict True.\n",
      "True\n"
     ]
    }
   ],
   "source": [
    "state = \"Massachusetts\"\n",
    "print(\"Is state 'Massachusetts'? I predict True.\")\n",
    "print(state == 'Massachusetts')"
   ]
  },
  {
   "cell_type": "code",
   "execution_count": 10,
   "id": "90a4801a",
   "metadata": {},
   "outputs": [
    {
     "name": "stdout",
     "output_type": "stream",
     "text": [
      "Is state == 'Ashland'? I predict True.\n",
      "True\n"
     ]
    }
   ],
   "source": [
    "town = \"Ashland\"\n",
    "print(\"Is state == 'Ashland'? I predict True.\")\n",
    "print(town == 'Ashland')"
   ]
  },
  {
   "cell_type": "code",
   "execution_count": 11,
   "id": "275a7d5d",
   "metadata": {},
   "outputs": [
    {
     "name": "stdout",
     "output_type": "stream",
     "text": [
      "Is homework == 'done'? I predict False\n",
      "False\n"
     ]
    }
   ],
   "source": [
    "homework = \"unfinished\"\n",
    "print(\"Is homework == 'done'? I predict False\")\n",
    "print(homework == 'done')"
   ]
  },
  {
   "cell_type": "code",
   "execution_count": 12,
   "id": "97c44219",
   "metadata": {},
   "outputs": [
    {
     "name": "stdout",
     "output_type": "stream",
     "text": [
      "Is car == 'jeep'? I predict False.\n",
      "False\n"
     ]
    }
   ],
   "source": [
    "print(\"Is car == 'jeep'? I predict False.\")\n",
    "print(car == 'jeep')"
   ]
  },
  {
   "cell_type": "code",
   "execution_count": 13,
   "id": "66a346c0",
   "metadata": {},
   "outputs": [
    {
     "name": "stdout",
     "output_type": "stream",
     "text": [
      "Is animal =='horse'? I predict False\n",
      "False\n"
     ]
    }
   ],
   "source": [
    "print(\"Is animal =='horse'? I predict False\")\n",
    "print(animal == 'horse')"
   ]
  },
  {
   "cell_type": "code",
   "execution_count": 14,
   "id": "2104d551",
   "metadata": {},
   "outputs": [
    {
     "name": "stdout",
     "output_type": "stream",
     "text": [
      "Is university == 'Holy Cross'? I predict False\n",
      "False\n"
     ]
    }
   ],
   "source": [
    "print(\"Is university == 'Holy Cross'? I predict False\")\n",
    "print(university == 'Holy Cross')"
   ]
  },
  {
   "cell_type": "code",
   "execution_count": 16,
   "id": "1d7a01c6",
   "metadata": {},
   "outputs": [
    {
     "name": "stdout",
     "output_type": "stream",
     "text": [
      "Is state == 'New York'? I predict False\n",
      "False\n"
     ]
    }
   ],
   "source": [
    "print(\"Is state == 'New York'? I predict False\")\n",
    "print(state == 'New York')"
   ]
  },
  {
   "cell_type": "markdown",
   "id": "cbc3313f",
   "metadata": {},
   "source": [
    "## 5-2"
   ]
  },
  {
   "cell_type": "code",
   "execution_count": 17,
   "id": "aa6e7198",
   "metadata": {},
   "outputs": [
    {
     "data": {
      "text/plain": [
       "True"
      ]
     },
     "execution_count": 17,
     "metadata": {},
     "output_type": "execute_result"
    }
   ],
   "source": [
    "favorite_animal = 'horse'\n",
    "favorite_animal == 'horse'"
   ]
  },
  {
   "cell_type": "code",
   "execution_count": 19,
   "id": "d8d5dbf4",
   "metadata": {},
   "outputs": [
    {
     "name": "stdout",
     "output_type": "stream",
     "text": [
      "Who let the dogs out?\n"
     ]
    }
   ],
   "source": [
    "if favorite_animal != 'dog':\n",
    "    print(\"Who let the dogs out?\")"
   ]
  },
  {
   "cell_type": "code",
   "execution_count": 20,
   "id": "09f2cd19",
   "metadata": {},
   "outputs": [
    {
     "data": {
      "text/plain": [
       "True"
      ]
     },
     "execution_count": 20,
     "metadata": {},
     "output_type": "execute_result"
    }
   ],
   "source": [
    "dog = 'Nikita'\n",
    "dog.lower() == 'nikita'"
   ]
  },
  {
   "cell_type": "code",
   "execution_count": 21,
   "id": "48ef2019",
   "metadata": {},
   "outputs": [
    {
     "data": {
      "text/plain": [
       "True"
      ]
     },
     "execution_count": 21,
     "metadata": {},
     "output_type": "execute_result"
    }
   ],
   "source": [
    "age = '24'\n",
    "age == '24'"
   ]
  },
  {
   "cell_type": "code",
   "execution_count": 22,
   "id": "171e6234",
   "metadata": {},
   "outputs": [
    {
     "data": {
      "text/plain": [
       "True"
      ]
     },
     "execution_count": 22,
     "metadata": {},
     "output_type": "execute_result"
    }
   ],
   "source": [
    "age > '18'"
   ]
  },
  {
   "cell_type": "code",
   "execution_count": 23,
   "id": "cd53e3e8",
   "metadata": {},
   "outputs": [
    {
     "data": {
      "text/plain": [
       "True"
      ]
     },
     "execution_count": 23,
     "metadata": {},
     "output_type": "execute_result"
    }
   ],
   "source": [
    "age >= '18'"
   ]
  },
  {
   "cell_type": "code",
   "execution_count": 24,
   "id": "58ba65bd",
   "metadata": {},
   "outputs": [
    {
     "data": {
      "text/plain": [
       "False"
      ]
     },
     "execution_count": 24,
     "metadata": {},
     "output_type": "execute_result"
    }
   ],
   "source": [
    "age < '18'"
   ]
  },
  {
   "cell_type": "code",
   "execution_count": 25,
   "id": "1c0f47ca",
   "metadata": {},
   "outputs": [
    {
     "data": {
      "text/plain": [
       "False"
      ]
     },
     "execution_count": 25,
     "metadata": {},
     "output_type": "execute_result"
    }
   ],
   "source": [
    "age <= '18'"
   ]
  },
  {
   "cell_type": "code",
   "execution_count": 26,
   "id": "0e53e7a1",
   "metadata": {},
   "outputs": [],
   "source": [
    "age_0 = '24'\n",
    "age_1 = '30'"
   ]
  },
  {
   "cell_type": "code",
   "execution_count": 27,
   "id": "21132f28",
   "metadata": {},
   "outputs": [
    {
     "data": {
      "text/plain": [
       "False"
      ]
     },
     "execution_count": 27,
     "metadata": {},
     "output_type": "execute_result"
    }
   ],
   "source": [
    "(age_0 > '25') and (age_1 > '25')"
   ]
  },
  {
   "cell_type": "code",
   "execution_count": 29,
   "id": "509c0c28",
   "metadata": {},
   "outputs": [
    {
     "data": {
      "text/plain": [
       "True"
      ]
     },
     "execution_count": 29,
     "metadata": {},
     "output_type": "execute_result"
    }
   ],
   "source": [
    "(age_0 > '20') and (age_1 > '25')"
   ]
  },
  {
   "cell_type": "code",
   "execution_count": 30,
   "id": "c70bf877",
   "metadata": {},
   "outputs": [
    {
     "data": {
      "text/plain": [
       "True"
      ]
     },
     "execution_count": 30,
     "metadata": {},
     "output_type": "execute_result"
    }
   ],
   "source": [
    "(age_0 >'25') or (age_1> '25')"
   ]
  },
  {
   "cell_type": "code",
   "execution_count": 31,
   "id": "f79ee3fc",
   "metadata": {},
   "outputs": [
    {
     "data": {
      "text/plain": [
       "False"
      ]
     },
     "execution_count": 31,
     "metadata": {},
     "output_type": "execute_result"
    }
   ],
   "source": [
    "(age_0> '31') or (age_1 > '31')"
   ]
  },
  {
   "cell_type": "code",
   "execution_count": 32,
   "id": "94a3f011",
   "metadata": {},
   "outputs": [
    {
     "data": {
      "text/plain": [
       "True"
      ]
     },
     "execution_count": 32,
     "metadata": {},
     "output_type": "execute_result"
    }
   ],
   "source": [
    "favorite_animals = ['horses', 'dogs', 'cats']\n",
    "\"horses\" in favorite_animals"
   ]
  },
  {
   "cell_type": "code",
   "execution_count": 33,
   "id": "463add49",
   "metadata": {},
   "outputs": [
    {
     "data": {
      "text/plain": [
       "False"
      ]
     },
     "execution_count": 33,
     "metadata": {},
     "output_type": "execute_result"
    }
   ],
   "source": [
    "\"birds\" in favorite_animals"
   ]
  },
  {
   "cell_type": "code",
   "execution_count": 34,
   "id": "fc7fbb2e",
   "metadata": {},
   "outputs": [
    {
     "data": {
      "text/plain": [
       "True"
      ]
     },
     "execution_count": 34,
     "metadata": {},
     "output_type": "execute_result"
    }
   ],
   "source": [
    "\"birds\" not in favorite_animals"
   ]
  },
  {
   "cell_type": "markdown",
   "id": "becac027",
   "metadata": {},
   "source": [
    "## 5-6"
   ]
  },
  {
   "cell_type": "code",
   "execution_count": 36,
   "id": "e57fc81d",
   "metadata": {},
   "outputs": [
    {
     "name": "stdout",
     "output_type": "stream",
     "text": [
      "You are a toddler.\n",
      "You are an adult.\n"
     ]
    }
   ],
   "source": [
    "age='24'\n",
    "if age < '2':\n",
    "    print(\"You are a baby.\")\n",
    "if age < '4':\n",
    "    print(\"You are a toddler.\")\n",
    "if age < '13':\n",
    "    print(\"You are a kid.\")\n",
    "if age < '20':\n",
    "    print(\"You are a teenager.\")\n",
    "if age < '65':\n",
    "    print(\"You are an adult.\")\n",
    "if age > '65':\n",
    "    print(\"You are an elder.\")"
   ]
  },
  {
   "cell_type": "code",
   "execution_count": 37,
   "id": "933b5dd4",
   "metadata": {},
   "outputs": [
    {
     "name": "stdout",
     "output_type": "stream",
     "text": [
      "You are a toddler.\n",
      "You are an adult.\n"
     ]
    }
   ],
   "source": [
    "age='24'\n",
    "if age < '2':\n",
    "    print(\"You are a baby.\")\n",
    "if age < '4':\n",
    "    print(\"You are a toddler.\")\n",
    "if age < '13':\n",
    "    print(\"You are a kid.\")\n",
    "if age < '20':\n",
    "    print(\"You are a teenager.\")\n",
    "if age < '65':\n",
    "    print(\"You are an adult.\")\n",
    "if age > '65':\n",
    "    print(\"You are an elder.\")"
   ]
  },
  {
   "cell_type": "code",
   "execution_count": 38,
   "id": "d9d35813",
   "metadata": {},
   "outputs": [
    {
     "name": "stdout",
     "output_type": "stream",
     "text": [
      "You are a toddler.\n"
     ]
    }
   ],
   "source": [
    "age='24'\n",
    "if age < '2':\n",
    "    print(\"You are a baby.\")\n",
    "elif age < '4':\n",
    "    print(\"You are a toddler.\")\n",
    "elif age < '13':\n",
    "    print(\"You are a kid.\")\n",
    "elif age < '20':\n",
    "    print(\"You are a teenager.\")\n",
    "elif age < '65':\n",
    "    print(\"You are an adult.\")\n",
    "elif age > '65':\n",
    "    print(\"You are an elder.\")"
   ]
  },
  {
   "cell_type": "code",
   "execution_count": 39,
   "id": "6b033a51",
   "metadata": {},
   "outputs": [],
   "source": [
    "# idk why I am getting 'you are a toddler' in the first two tries. also i know that it only runs the first one that passes, but the exmple in the book implies that the multiple elif chain should work like this? idk"
   ]
  },
  {
   "cell_type": "markdown",
   "id": "2830109d",
   "metadata": {},
   "source": [
    "## 5-7"
   ]
  },
  {
   "cell_type": "code",
   "execution_count": 40,
   "id": "64b12473",
   "metadata": {},
   "outputs": [
    {
     "name": "stdout",
     "output_type": "stream",
     "text": [
      "You really like apples!\n"
     ]
    }
   ],
   "source": [
    "favorite_fruits= [\"apples\", \"grapes\", \"bananas\"]\n",
    "if 'apples' in favorite_fruits:\n",
    "    print(\"You really like apples!\")"
   ]
  },
  {
   "cell_type": "code",
   "execution_count": 41,
   "id": "7cf18550",
   "metadata": {},
   "outputs": [
    {
     "name": "stdout",
     "output_type": "stream",
     "text": [
      "You really like grapes!\n",
      "You really like bananas!\n"
     ]
    }
   ],
   "source": [
    "if 'grapes' in favorite_fruits:\n",
    "    print(\"You really like grapes!\")\n",
    "if 'bananas' in favorite_fruits:\n",
    "    print(\"You really like bananas!\")\n",
    "if 'blueberries' in favorite_fruits:\n",
    "    print(\"You really like blueberries!\")\n",
    "if 'strawberries' in favorite_fruits:\n",
    "    print(\"You really like strawberries!\")"
   ]
  },
  {
   "cell_type": "markdown",
   "id": "27d78e88",
   "metadata": {},
   "source": [
    "## 5-8"
   ]
  },
  {
   "cell_type": "code",
   "execution_count": 53,
   "id": "1147e137",
   "metadata": {},
   "outputs": [
    {
     "name": "stdout",
     "output_type": "stream",
     "text": [
      "Hello admin, would you like to see a status report?\n",
      "Hello libby_unicorn97, thank you for logging in again.\n",
      "Hello ironman-fan3000, thank you for logging in again.\n",
      "Hello bilbobaggins_34, thank you for logging in again.\n",
      "Hello hello_world, thank you for logging in again.\n"
     ]
    }
   ],
   "source": [
    "usernames= ['admin', 'libby_unicorn97', 'ironman-fan3000', 'bilbobaggins_34', 'hello_world']\n",
    "for username in usernames:\n",
    "    if username == 'admin':\n",
    "        print(\"Hello admin, would you like to see a status report?\")\n",
    "    else:\n",
    "        print(\"Hello \" + username + \", thank you for logging in again.\")"
   ]
  },
  {
   "cell_type": "markdown",
   "id": "6cb01dc4",
   "metadata": {},
   "source": [
    "## 5-9"
   ]
  },
  {
   "cell_type": "code",
   "execution_count": 50,
   "id": "9b5a65d3",
   "metadata": {},
   "outputs": [],
   "source": [
    "del usernames[0]"
   ]
  },
  {
   "cell_type": "code",
   "execution_count": 51,
   "id": "0df4ce86",
   "metadata": {},
   "outputs": [
    {
     "data": {
      "text/plain": [
       "['libby_unicorn97', 'ironman-fan3000', 'bilbobaggins_34', 'hello_world']"
      ]
     },
     "execution_count": 51,
     "metadata": {},
     "output_type": "execute_result"
    }
   ],
   "source": [
    "usernames"
   ]
  },
  {
   "cell_type": "code",
   "execution_count": 52,
   "id": "d757c0a2",
   "metadata": {},
   "outputs": [
    {
     "data": {
      "text/plain": [
       "[]"
      ]
     },
     "execution_count": 52,
     "metadata": {},
     "output_type": "execute_result"
    }
   ],
   "source": [
    "del usernames[0]\n",
    "del usernames[0]\n",
    "del usernames[0]\n",
    "del usernames[0]\n",
    "usernames"
   ]
  },
  {
   "cell_type": "code",
   "execution_count": 57,
   "id": "f6ce5120",
   "metadata": {},
   "outputs": [
    {
     "name": "stdout",
     "output_type": "stream",
     "text": [
      "Hello admin, thank you for logging in again.\n",
      "Hello libby_unicorn97, thank you for logging in again.\n",
      "Hello ironman-fan3000, thank you for logging in again.\n",
      "Hello bilbobaggins_34, thank you for logging in again.\n",
      "Hello hello_world, thank you for logging in again.\n",
      "We need to find some users!\n"
     ]
    }
   ],
   "source": [
    "if usernames:\n",
    "    for username in usernames:\n",
    "        print(\"Hello \" + username + \", thank you for logging in again.\")\n",
    "    else:\n",
    "        print(\"We need to find some users!\")"
   ]
  },
  {
   "cell_type": "code",
   "execution_count": 56,
   "id": "21028e5f",
   "metadata": {},
   "outputs": [
    {
     "data": {
      "text/plain": [
       "['admin',\n",
       " 'libby_unicorn97',\n",
       " 'ironman-fan3000',\n",
       " 'bilbobaggins_34',\n",
       " 'hello_world']"
      ]
     },
     "execution_count": 56,
     "metadata": {},
     "output_type": "execute_result"
    }
   ],
   "source": [
    "usernames"
   ]
  },
  {
   "cell_type": "code",
   "execution_count": 58,
   "id": "07bb70ce",
   "metadata": {},
   "outputs": [],
   "source": [
    "del usernames[0]\n",
    "del usernames[0]\n",
    "del usernames[0]\n",
    "del usernames[0]\n",
    "del usernames[0]"
   ]
  },
  {
   "cell_type": "code",
   "execution_count": 59,
   "id": "13b43170",
   "metadata": {},
   "outputs": [
    {
     "name": "stdout",
     "output_type": "stream",
     "text": [
      "[]\n"
     ]
    }
   ],
   "source": [
    "print(usernames)"
   ]
  },
  {
   "cell_type": "code",
   "execution_count": 60,
   "id": "aa2aa02c",
   "metadata": {},
   "outputs": [
    {
     "data": {
      "text/plain": [
       "[]"
      ]
     },
     "execution_count": 60,
     "metadata": {},
     "output_type": "execute_result"
    }
   ],
   "source": [
    "usernames"
   ]
  },
  {
   "cell_type": "code",
   "execution_count": 64,
   "id": "7387e075",
   "metadata": {},
   "outputs": [],
   "source": [
    "if usernames:\n",
    "    for username in usernames:\n",
    "        print(\"Hello \" + username + \", thank you for logging in again.\")\n",
    "    else:\n",
    "        print(\"We need to find some users!\")"
   ]
  },
  {
   "cell_type": "code",
   "execution_count": 65,
   "id": "e7e5f532",
   "metadata": {},
   "outputs": [],
   "source": [
    "# now it's not giving me anything??? help"
   ]
  },
  {
   "cell_type": "markdown",
   "id": "fd4a45cc",
   "metadata": {},
   "source": [
    "## 5-10"
   ]
  },
  {
   "cell_type": "code",
   "execution_count": 66,
   "id": "ebd33372",
   "metadata": {},
   "outputs": [],
   "source": [
    "current_users=['libby_unicorn97', 'ironman-fan3000', 'bilbobaggins_34', 'hello_world', 'steve']"
   ]
  },
  {
   "cell_type": "code",
   "execution_count": 67,
   "id": "765ce9c2",
   "metadata": {},
   "outputs": [],
   "source": [
    "new_users=['bilboismyblorbo', 'steve', 'hello_world', 'faxforever25', 'fiona_the_ogre']"
   ]
  },
  {
   "cell_type": "code",
   "execution_count": 68,
   "id": "68f24892",
   "metadata": {},
   "outputs": [
    {
     "name": "stdout",
     "output_type": "stream",
     "text": [
      "This username is available.\n",
      "You will need to enter a new username.\n",
      "You will need to enter a new username.\n",
      "This username is available.\n",
      "This username is available.\n"
     ]
    }
   ],
   "source": [
    "for new_user in new_users:\n",
    "    if new_user in current_users:\n",
    "        print(\"You will need to enter a new username.\")\n",
    "    else:\n",
    "        print(\"This username is available.\")"
   ]
  },
  {
   "cell_type": "code",
   "execution_count": null,
   "id": "21d916ff",
   "metadata": {},
   "outputs": [],
   "source": []
  }
 ],
 "metadata": {
  "kernelspec": {
   "display_name": "Python 3 (ipykernel)",
   "language": "python",
   "name": "python3"
  },
  "language_info": {
   "codemirror_mode": {
    "name": "ipython",
    "version": 3
   },
   "file_extension": ".py",
   "mimetype": "text/x-python",
   "name": "python",
   "nbconvert_exporter": "python",
   "pygments_lexer": "ipython3",
   "version": "3.11.4"
  }
 },
 "nbformat": 4,
 "nbformat_minor": 5
}
