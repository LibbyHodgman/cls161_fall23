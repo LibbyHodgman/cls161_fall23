{
 "cells": [
  {
   "cell_type": "markdown",
   "id": "255edecd",
   "metadata": {},
   "source": [
    "# Functions"
   ]
  },
  {
   "cell_type": "code",
   "execution_count": 1,
   "id": "d58c668f",
   "metadata": {},
   "outputs": [],
   "source": [
    "# basic example\n",
    "def say_hello():\n",
    "    \"\"\"Display a greeting\"\"\"\n",
    "    print(\"Hello.\")"
   ]
  },
  {
   "cell_type": "code",
   "execution_count": 2,
   "id": "48687ba1",
   "metadata": {},
   "outputs": [
    {
     "name": "stdout",
     "output_type": "stream",
     "text": [
      "Hello.\n"
     ]
    }
   ],
   "source": [
    "say_hello()"
   ]
  },
  {
   "cell_type": "code",
   "execution_count": 3,
   "id": "a8e38665",
   "metadata": {},
   "outputs": [],
   "source": [
    "def say_hello_name(name):\n",
    "    \"\"\"Greet by name\"\"\"\n",
    "    print(f\"Hello, {name}!\")"
   ]
  },
  {
   "cell_type": "code",
   "execution_count": 4,
   "id": "522cd2c9",
   "metadata": {},
   "outputs": [
    {
     "name": "stdout",
     "output_type": "stream",
     "text": [
      "Hello, Libby!\n"
     ]
    }
   ],
   "source": [
    "say_hello_name(\"Libby\")"
   ]
  },
  {
   "cell_type": "code",
   "execution_count": 5,
   "id": "7bfda8cc",
   "metadata": {},
   "outputs": [],
   "source": [
    "names= [\"Libby\", \"Kaitlyn\", \"Aimee\"]"
   ]
  },
  {
   "cell_type": "code",
   "execution_count": 6,
   "id": "04a0ede5",
   "metadata": {},
   "outputs": [
    {
     "name": "stdout",
     "output_type": "stream",
     "text": [
      "Hello, Libby!\n",
      "Hello, Kaitlyn!\n",
      "Hello, Aimee!\n"
     ]
    }
   ],
   "source": [
    "for name in names:\n",
    "    say_hello_name(name)"
   ]
  },
  {
   "cell_type": "code",
   "execution_count": 7,
   "id": "225d9dfb",
   "metadata": {},
   "outputs": [],
   "source": [
    "def describe_author(name, genre):\n",
    "    \"\"\"Describe an author by genre\"\"\"\n",
    "    print(f\"{name.title()} writes {genre}.\")"
   ]
  },
  {
   "cell_type": "code",
   "execution_count": 8,
   "id": "1ef43967",
   "metadata": {},
   "outputs": [
    {
     "name": "stdout",
     "output_type": "stream",
     "text": [
      "Gibbon writes history.\n"
     ]
    }
   ],
   "source": [
    "describe_author(\"Gibbon\", \"history\")"
   ]
  },
  {
   "cell_type": "code",
   "execution_count": 10,
   "id": "449895b6",
   "metadata": {},
   "outputs": [],
   "source": [
    "def format_name(first_name, last_name):\n",
    "    full_name = f\"{first_name.title()} {last_name.title()}\"\n",
    "    return full_name"
   ]
  },
  {
   "cell_type": "code",
   "execution_count": 11,
   "id": "41cb5da8",
   "metadata": {},
   "outputs": [],
   "source": [
    "philosopher = format_name(first_name=\"Friedrich\", last_name=\"nietzsche\")"
   ]
  },
  {
   "cell_type": "code",
   "execution_count": 12,
   "id": "d2bc3db8",
   "metadata": {},
   "outputs": [
    {
     "data": {
      "text/plain": [
       "'Friedrich Nietzsche'"
      ]
     },
     "execution_count": 12,
     "metadata": {},
     "output_type": "execute_result"
    }
   ],
   "source": [
    "philosopher"
   ]
  },
  {
   "cell_type": "code",
   "execution_count": null,
   "id": "765d6468",
   "metadata": {},
   "outputs": [],
   "source": []
  }
 ],
 "metadata": {
  "kernelspec": {
   "display_name": "Python 3 (ipykernel)",
   "language": "python",
   "name": "python3"
  },
  "language_info": {
   "codemirror_mode": {
    "name": "ipython",
    "version": 3
   },
   "file_extension": ".py",
   "mimetype": "text/x-python",
   "name": "python",
   "nbconvert_exporter": "python",
   "pygments_lexer": "ipython3",
   "version": "3.11.4"
  }
 },
 "nbformat": 4,
 "nbformat_minor": 5
}
