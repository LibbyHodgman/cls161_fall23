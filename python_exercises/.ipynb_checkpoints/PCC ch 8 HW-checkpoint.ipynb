{
 "cells": [
  {
   "cell_type": "markdown",
   "id": "a84651da",
   "metadata": {},
   "source": [
    "# Chapter 8 HW"
   ]
  },
  {
   "cell_type": "markdown",
   "id": "6eec748e",
   "metadata": {},
   "source": [
    "## 8-1"
   ]
  },
  {
   "cell_type": "code",
   "execution_count": 1,
   "id": "c649155c",
   "metadata": {},
   "outputs": [
    {
     "name": "stdout",
     "output_type": "stream",
     "text": [
      "This chapter I am learning to write functions\n"
     ]
    }
   ],
   "source": [
    "def display_message():\n",
    "    print('This chapter I am learning to write functions')\n",
    "display_message()"
   ]
  },
  {
   "cell_type": "markdown",
   "id": "4115e5f5",
   "metadata": {},
   "source": [
    "## 8-2"
   ]
  },
  {
   "cell_type": "code",
   "execution_count": 3,
   "id": "48366768",
   "metadata": {},
   "outputs": [
    {
     "name": "stdout",
     "output_type": "stream",
     "text": [
      "One of my favorite books is Six Of Crows.\n"
     ]
    }
   ],
   "source": [
    "def favorite_book(title):\n",
    "    print('One of my favorite books is ' + title.title() + \".\")\n",
    "favorite_book(\"Six of Crows\")"
   ]
  },
  {
   "cell_type": "markdown",
   "id": "244d32c8",
   "metadata": {},
   "source": [
    "## 8-3"
   ]
  },
  {
   "cell_type": "code",
   "execution_count": 5,
   "id": "28bca92c",
   "metadata": {},
   "outputs": [
    {
     "name": "stdout",
     "output_type": "stream",
     "text": [
      "The size of my shirt is medium and it says Hello, World!\n"
     ]
    }
   ],
   "source": [
    "def make_shirt(shirt_size, shirt_text):\n",
    "    print('The size of my shirt is ' + shirt_size + ' and it says ' + shirt_text)\n",
    "make_shirt('medium', 'Hello, World!')"
   ]
  },
  {
   "cell_type": "markdown",
   "id": "6df7fdc6",
   "metadata": {},
   "source": [
    "## 8-5"
   ]
  },
  {
   "cell_type": "code",
   "execution_count": 6,
   "id": "9b8145f9",
   "metadata": {},
   "outputs": [
    {
     "name": "stdout",
     "output_type": "stream",
     "text": [
      "Boston is in USA\n",
      "New York is in USA\n",
      "Athens is in Greece\n"
     ]
    }
   ],
   "source": [
    "def describe_city(city_name, country_name='USA'):\n",
    "    print(city_name + \" is in \" + country_name)\n",
    "describe_city('Boston')\n",
    "describe_city('New York')\n",
    "describe_city(city_name='Athens', country_name='Greece')"
   ]
  },
  {
   "cell_type": "markdown",
   "id": "b62af9b7",
   "metadata": {},
   "source": [
    "## 8-6"
   ]
  },
  {
   "cell_type": "code",
   "execution_count": 8,
   "id": "c132081e",
   "metadata": {},
   "outputs": [
    {
     "name": "stdout",
     "output_type": "stream",
     "text": [
      "Boston, Usa\n",
      "Athens, Greece\n",
      "Rome, Italy\n"
     ]
    }
   ],
   "source": [
    "def city_country(city_name, country_name):\n",
    "    full_location= city_name + \", \" + country_name\n",
    "    return full_location.title()\n",
    "location= city_country('boston', 'usa')\n",
    "print(location)\n",
    "location= city_country('athens', 'greece')\n",
    "print(location)\n",
    "location= city_country('rome', 'italy')\n",
    "print(location)"
   ]
  },
  {
   "cell_type": "markdown",
   "id": "2944f88a",
   "metadata": {},
   "source": [
    "## 6-7"
   ]
  },
  {
   "cell_type": "code",
   "execution_count": 17,
   "id": "a5f0de79",
   "metadata": {},
   "outputs": [
    {
     "name": "stdout",
     "output_type": "stream",
     "text": [
      "{'artist': 'Florence and the Machine', 'album': 'Lungs'}\n",
      "{'artist': 'Linkin Park', 'album': 'Meteora'}\n",
      "{'artist': 'Fall Out Boy', 'album': 'So Much for Stardust'}\n"
     ]
    }
   ],
   "source": [
    "def make_album(artist_name, album_title):\n",
    "    music_album= {'artist': artist_name, 'album': album_title}\n",
    "    return music_album\n",
    "album= make_album('Florence and the Machine', 'Lungs')\n",
    "print(album)\n",
    "album= make_album('Linkin Park', 'Meteora')\n",
    "print(album)\n",
    "album= make_album('Fall Out Boy', 'So Much for Stardust')\n",
    "print(album)"
   ]
  }
 ],
 "metadata": {
  "kernelspec": {
   "display_name": "Python 3 (ipykernel)",
   "language": "python",
   "name": "python3"
  },
  "language_info": {
   "codemirror_mode": {
    "name": "ipython",
    "version": 3
   },
   "file_extension": ".py",
   "mimetype": "text/x-python",
   "name": "python",
   "nbconvert_exporter": "python",
   "pygments_lexer": "ipython3",
   "version": "3.11.4"
  }
 },
 "nbformat": 4,
 "nbformat_minor": 5
}
