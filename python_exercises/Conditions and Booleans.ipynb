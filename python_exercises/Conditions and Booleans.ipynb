{
 "cells": [
  {
   "cell_type": "markdown",
   "id": "a9fe4ae4",
   "metadata": {},
   "source": [
    "# Conditionals"
   ]
  },
  {
   "cell_type": "code",
   "execution_count": 1,
   "id": "37789d2a",
   "metadata": {},
   "outputs": [],
   "source": [
    "list_of_lists = [[\"a\", \"b\", \"c\"], [1, 2, 3]]"
   ]
  },
  {
   "cell_type": "code",
   "execution_count": 2,
   "id": "71f20803",
   "metadata": {},
   "outputs": [
    {
     "data": {
      "text/plain": [
       "2"
      ]
     },
     "execution_count": 2,
     "metadata": {},
     "output_type": "execute_result"
    }
   ],
   "source": [
    "len(list_of_lists)"
   ]
  },
  {
   "cell_type": "code",
   "execution_count": 3,
   "id": "cfa18146",
   "metadata": {},
   "outputs": [
    {
     "name": "stdout",
     "output_type": "stream",
     "text": [
      "['a', 'b', 'c']\n"
     ]
    }
   ],
   "source": [
    "print(list_of_lists[0])"
   ]
  },
  {
   "cell_type": "code",
   "execution_count": 4,
   "id": "232aa26b",
   "metadata": {},
   "outputs": [
    {
     "name": "stdout",
     "output_type": "stream",
     "text": [
      "2\n"
     ]
    }
   ],
   "source": [
    "print(list_of_lists[1][1])"
   ]
  },
  {
   "cell_type": "markdown",
   "id": "cd5cc6e6",
   "metadata": {},
   "source": [
    "## Booleans"
   ]
  },
  {
   "cell_type": "code",
   "execution_count": 5,
   "id": "404de64c",
   "metadata": {},
   "outputs": [],
   "source": [
    "a = True\n",
    "b = False"
   ]
  },
  {
   "cell_type": "code",
   "execution_count": 6,
   "id": "7037566c",
   "metadata": {},
   "outputs": [
    {
     "name": "stdout",
     "output_type": "stream",
     "text": [
      "<class 'bool'>\n"
     ]
    }
   ],
   "source": [
    "print(type(a))"
   ]
  },
  {
   "cell_type": "code",
   "execution_count": 7,
   "id": "9d8080f0",
   "metadata": {},
   "outputs": [
    {
     "name": "stdout",
     "output_type": "stream",
     "text": [
      "False\n"
     ]
    }
   ],
   "source": [
    "print(7==10)"
   ]
  },
  {
   "cell_type": "code",
   "execution_count": 8,
   "id": "6a63d16b",
   "metadata": {},
   "outputs": [
    {
     "name": "stdout",
     "output_type": "stream",
     "text": [
      "True\n"
     ]
    }
   ],
   "source": [
    "print(7!=10)"
   ]
  },
  {
   "cell_type": "code",
   "execution_count": 9,
   "id": "d703cab0",
   "metadata": {},
   "outputs": [],
   "source": [
    "c = 18"
   ]
  },
  {
   "cell_type": "code",
   "execution_count": 10,
   "id": "3f583a5e",
   "metadata": {},
   "outputs": [
    {
     "data": {
      "text/plain": [
       "True"
      ]
     },
     "execution_count": 10,
     "metadata": {},
     "output_type": "execute_result"
    }
   ],
   "source": [
    "c == 18"
   ]
  },
  {
   "cell_type": "code",
   "execution_count": 11,
   "id": "08c2d627",
   "metadata": {},
   "outputs": [
    {
     "data": {
      "text/plain": [
       "False"
      ]
     },
     "execution_count": 11,
     "metadata": {},
     "output_type": "execute_result"
    }
   ],
   "source": [
    "\"c\" == 18"
   ]
  },
  {
   "cell_type": "code",
   "execution_count": 12,
   "id": "6f9b53a8",
   "metadata": {},
   "outputs": [
    {
     "name": "stdout",
     "output_type": "stream",
     "text": [
      "True\n"
     ]
    }
   ],
   "source": [
    "print(\"Gibbon\" == \"Gibbon\")"
   ]
  },
  {
   "cell_type": "code",
   "execution_count": 13,
   "id": "7945481f",
   "metadata": {},
   "outputs": [
    {
     "name": "stdout",
     "output_type": "stream",
     "text": [
      "False\n"
     ]
    }
   ],
   "source": [
    "print(\"Gibbon\" == \"gibbon\")"
   ]
  },
  {
   "cell_type": "code",
   "execution_count": 14,
   "id": "795421cf",
   "metadata": {},
   "outputs": [],
   "source": [
    "historians = [\"gibbon\", \"eusebius\", \"lepore\"]"
   ]
  },
  {
   "cell_type": "code",
   "execution_count": 15,
   "id": "98f97860",
   "metadata": {},
   "outputs": [
    {
     "name": "stdout",
     "output_type": "stream",
     "text": [
      "True\n"
     ]
    }
   ],
   "source": [
    "print(\"gibbon\" in historians)"
   ]
  },
  {
   "cell_type": "markdown",
   "id": "0a23b99c",
   "metadata": {},
   "source": [
    "## Conditionals"
   ]
  },
  {
   "cell_type": "code",
   "execution_count": 22,
   "id": "1c6c7cf9",
   "metadata": {},
   "outputs": [],
   "source": [
    "age = 18"
   ]
  },
  {
   "cell_type": "code",
   "execution_count": 24,
   "id": "f2d3cbb2",
   "metadata": {},
   "outputs": [
    {
     "name": "stdout",
     "output_type": "stream",
     "text": [
      "Happy Birthday, welcome to democracy, it's a little rough out there.\n"
     ]
    }
   ],
   "source": [
    "if age > 18:\n",
    "    print(\"You are old enough to vote.\")\n",
    "elif age == 18:\n",
    "    print(\"Happy Birthday, welcome to democracy, it's a little rough out there.\")\n",
    "else:\n",
    "    print(\"You are too young to vote.\")"
   ]
  },
  {
   "cell_type": "markdown",
   "id": "369dccbf",
   "metadata": {},
   "source": [
    "## Boolean Operators"
   ]
  },
  {
   "cell_type": "code",
   "execution_count": 25,
   "id": "81a867c8",
   "metadata": {},
   "outputs": [
    {
     "data": {
      "text/plain": [
       "True"
      ]
     },
     "execution_count": 25,
     "metadata": {},
     "output_type": "execute_result"
    }
   ],
   "source": [
    "(7 != 10)"
   ]
  },
  {
   "cell_type": "code",
   "execution_count": 26,
   "id": "60c1eb6a",
   "metadata": {},
   "outputs": [
    {
     "data": {
      "text/plain": [
       "False"
      ]
     },
     "execution_count": 26,
     "metadata": {},
     "output_type": "execute_result"
    }
   ],
   "source": [
    "(7 != 10) and (7 > 10)"
   ]
  },
  {
   "cell_type": "code",
   "execution_count": 32,
   "id": "285026a8",
   "metadata": {},
   "outputs": [
    {
     "data": {
      "text/plain": [
       "True"
      ]
     },
     "execution_count": 32,
     "metadata": {},
     "output_type": "execute_result"
    }
   ],
   "source": [
    "(7 != 10) and (7 < 10)"
   ]
  },
  {
   "cell_type": "code",
   "execution_count": 29,
   "id": "a336cbf4",
   "metadata": {},
   "outputs": [
    {
     "data": {
      "text/plain": [
       "True"
      ]
     },
     "execution_count": 29,
     "metadata": {},
     "output_type": "execute_result"
    }
   ],
   "source": [
    "(7 != 10) or (7 > 10)"
   ]
  },
  {
   "cell_type": "code",
   "execution_count": 33,
   "id": "2fe8ba7f",
   "metadata": {},
   "outputs": [
    {
     "data": {
      "text/plain": [
       "True"
      ]
     },
     "execution_count": 33,
     "metadata": {},
     "output_type": "execute_result"
    }
   ],
   "source": [
    "(\"Gibbon\" in historians) or (\"gibbon\" in historians)"
   ]
  },
  {
   "cell_type": "code",
   "execution_count": 34,
   "id": "eb55316a",
   "metadata": {},
   "outputs": [
    {
     "name": "stdout",
     "output_type": "stream",
     "text": [
      "Gibbon is not in list\n",
      "Gibbon is not in list\n",
      "Gibbon is not in list\n"
     ]
    }
   ],
   "source": [
    "for historian in historians:\n",
    "    if historian == \"Gibbon\" or historians == \"gibbon\":\n",
    "        print(\"Gibbon is in list\")\n",
    "    else:\n",
    "        print(\"Gibbon is not in list\")"
   ]
  },
  {
   "cell_type": "code",
   "execution_count": null,
   "id": "b4548a81",
   "metadata": {},
   "outputs": [],
   "source": []
  }
 ],
 "metadata": {
  "kernelspec": {
   "display_name": "Python 3 (ipykernel)",
   "language": "python",
   "name": "python3"
  },
  "language_info": {
   "codemirror_mode": {
    "name": "ipython",
    "version": 3
   },
   "file_extension": ".py",
   "mimetype": "text/x-python",
   "name": "python",
   "nbconvert_exporter": "python",
   "pygments_lexer": "ipython3",
   "version": "3.11.4"
  }
 },
 "nbformat": 4,
 "nbformat_minor": 5
}
