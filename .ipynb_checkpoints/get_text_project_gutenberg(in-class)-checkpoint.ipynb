{
 "cells": [
  {
   "cell_type": "markdown",
   "metadata": {},
   "source": [
    "# Get text from Project Gutenberg"
   ]
  },
  {
   "cell_type": "markdown",
   "metadata": {},
   "source": [
    "[Project Gutenberg](https://www.gutenberg.org/) is an excellent source of text data from books which are out of copyright. Project Gutenberg posts plain text files of ~70,000 different texts. In the following blocks of code we will walk through a process of scrapping, organizing, and cleaning up Most of [Charles Dickens's](https://en.wikipedia.org/wiki/Charles_Dickens) novels."
   ]
  },
  {
   "cell_type": "markdown",
   "metadata": {},
   "source": [
    "## Set up"
   ]
  },
  {
   "cell_type": "code",
   "execution_count": 1,
   "metadata": {},
   "outputs": [],
   "source": [
    "# imports\n",
    "import requests\n",
    "import pandas as pd\n",
    "import spacy"
   ]
  },
  {
   "cell_type": "code",
   "execution_count": 2,
   "metadata": {},
   "outputs": [
    {
     "data": {
      "text/plain": [
       "['ner', 'parser']"
      ]
     },
     "execution_count": 2,
     "metadata": {},
     "output_type": "execute_result"
    }
   ],
   "source": [
    "# set up nlp pipline\n",
    "nlp = spacy.load(\"en_core_web_sm\")\n",
    "nlp.disable_pipes('ner', 'parser')"
   ]
  },
  {
   "cell_type": "markdown",
   "metadata": {},
   "source": [
    "### Example: Tale of Two Cities\n",
    "\n",
    "We will start by searching for the text we want in [Project Gutenberg](https://www.gutenberg.org/). In this first example, we will search for _A Tale of Two Cities_. From this search result we can get a url to the plain text file."
   ]
  },
  {
   "cell_type": "code",
   "execution_count": 3,
   "metadata": {},
   "outputs": [],
   "source": [
    "# use requests library to load text\n",
    "response= requests.get(\"https://gutenberg.org/cache/epub/98/pg98.txt\")\n",
    "text= response.text"
   ]
  },
  {
   "cell_type": "code",
   "execution_count": 4,
   "metadata": {},
   "outputs": [
    {
     "data": {
      "text/plain": [
       "'\\ufeffThe Project Gutenberg eBook of A Tale of Two Cities\\r\\n    \\r\\nThis ebook is for the use of anyone anywhere in the United States and\\r\\nmost other parts of the world at no cost and with almost no restrictions\\r\\nwhatsoever. You may copy it, give it away or '"
      ]
     },
     "execution_count": 4,
     "metadata": {},
     "output_type": "execute_result"
    }
   ],
   "source": [
    "text[:250]"
   ]
  },
  {
   "cell_type": "markdown",
   "metadata": {},
   "source": [
    "### Isolate the text we are interested in\n",
    "\n",
    "If you look closely at the text, you will notice that there is a lot of front matter and back matter that is superfluous to the novel. We are not interested in that material, so we need to find a way to cut it.\n",
    "\n",
    "We can do this by finding the index to the starting text and then the index to the ending text. We can use the start and end index numbers to isolate the text we are interested in."
   ]
  },
  {
   "cell_type": "code",
   "execution_count": 5,
   "metadata": {},
   "outputs": [
    {
     "data": {
      "text/plain": [
       "2731"
      ]
     },
     "execution_count": 5,
     "metadata": {},
     "output_type": "execute_result"
    }
   ],
   "source": [
    "# find start index\n",
    "text.find('It was the best of times, it was the worst of times, it was the age of')"
   ]
  },
  {
   "cell_type": "code",
   "execution_count": 6,
   "metadata": {},
   "outputs": [
    {
     "data": {
      "text/plain": [
       "'I'"
      ]
     },
     "execution_count": 6,
     "metadata": {},
     "output_type": "execute_result"
    }
   ],
   "source": [
    "text[2731]"
   ]
  },
  {
   "cell_type": "code",
   "execution_count": 7,
   "metadata": {},
   "outputs": [
    {
     "data": {
      "text/plain": [
       "774307"
      ]
     },
     "execution_count": 7,
     "metadata": {},
     "output_type": "execute_result"
    }
   ],
   "source": [
    "# find end index\n",
    "text.find('*** END OF THE PROJECT GUTENBERG EBOOK A TALE OF TWO CITIES ***')"
   ]
  },
  {
   "cell_type": "code",
   "execution_count": 8,
   "metadata": {},
   "outputs": [],
   "source": [
    "# set start and end variables\n",
    "start=2731\n",
    "end=774307 -1"
   ]
  },
  {
   "cell_type": "code",
   "execution_count": 9,
   "metadata": {},
   "outputs": [],
   "source": [
    "# trim text\n",
    "tale= text[start:end]"
   ]
  },
  {
   "cell_type": "markdown",
   "metadata": {},
   "source": [
    "### Split text into paragraphs for easier processing\n",
    "\n",
    "We now have a very long text string containing the entire text of _A Tale of Two Cities_. For ease of processing, we will cut the text up into paragraphs (you could also do chapters if you wanted). Project Gutenberg uses a sequence of returns and new lines to separate the paragraphs. In the raw text this sequence looks like this `\\r\\n\\r\\n`. We can use this sequence of paragraphs to split the text into paragraphs."
   ]
  },
  {
   "cell_type": "code",
   "execution_count": 10,
   "metadata": {},
   "outputs": [],
   "source": [
    "# split into paragraphs\n",
    "tale_paras= tale.split('\\r\\n\\r\\n')"
   ]
  },
  {
   "cell_type": "code",
   "execution_count": 11,
   "metadata": {},
   "outputs": [
    {
     "data": {
      "text/plain": [
       "list"
      ]
     },
     "execution_count": 11,
     "metadata": {},
     "output_type": "execute_result"
    }
   ],
   "source": [
    "type(tale_paras)"
   ]
  },
  {
   "cell_type": "code",
   "execution_count": 12,
   "metadata": {},
   "outputs": [
    {
     "data": {
      "text/plain": [
       "3364"
      ]
     },
     "execution_count": 12,
     "metadata": {},
     "output_type": "execute_result"
    }
   ],
   "source": [
    "len(tale_paras)"
   ]
  },
  {
   "cell_type": "markdown",
   "metadata": {},
   "source": [
    "### Organize paragraphs into a Dataframe for processing and storage\n",
    "\n",
    "As we have seen, a Pandas DataFrame is a handy way to organize data for processing and storage. Here, we will create a DataFrame with columns for author, title, and text where each row represents a paragraph. Of course, in this example, the author and title will be the same for each row."
   ]
  },
  {
   "cell_type": "code",
   "execution_count": 13,
   "metadata": {},
   "outputs": [],
   "source": [
    "# creating empty lists for author and title will be handy for building our dataframe\n",
    "author = []\n",
    "title = []"
   ]
  },
  {
   "cell_type": "code",
   "execution_count": 14,
   "metadata": {},
   "outputs": [],
   "source": [
    "# this little for-loop will poplate the lists we just created\n",
    "for para in tale_paras:\n",
    "    author.append('Dickens')\n",
    "    title.append('Tale')"
   ]
  },
  {
   "cell_type": "code",
   "execution_count": 15,
   "metadata": {},
   "outputs": [
    {
     "data": {
      "text/plain": [
       "True"
      ]
     },
     "execution_count": 15,
     "metadata": {},
     "output_type": "execute_result"
    }
   ],
   "source": [
    "len(author) == len(tale_paras)"
   ]
  },
  {
   "cell_type": "markdown",
   "metadata": {},
   "source": [
    "We now have three lists of equal length: author, title, paras. We can us the `zip` function to construct the lists together and then into a DataFrame."
   ]
  },
  {
   "cell_type": "code",
   "execution_count": 16,
   "metadata": {},
   "outputs": [],
   "source": [
    "tale_df = pd.DataFrame(list(zip(author, title, tale_paras)), columns=['author', 'title', 'text'])"
   ]
  },
  {
   "cell_type": "code",
   "execution_count": 17,
   "metadata": {
    "scrolled": true
   },
   "outputs": [
    {
     "data": {
      "text/html": [
       "<div>\n",
       "<style scoped>\n",
       "    .dataframe tbody tr th:only-of-type {\n",
       "        vertical-align: middle;\n",
       "    }\n",
       "\n",
       "    .dataframe tbody tr th {\n",
       "        vertical-align: top;\n",
       "    }\n",
       "\n",
       "    .dataframe thead th {\n",
       "        text-align: right;\n",
       "    }\n",
       "</style>\n",
       "<table border=\"1\" class=\"dataframe\">\n",
       "  <thead>\n",
       "    <tr style=\"text-align: right;\">\n",
       "      <th></th>\n",
       "      <th>author</th>\n",
       "      <th>title</th>\n",
       "      <th>text</th>\n",
       "    </tr>\n",
       "  </thead>\n",
       "  <tbody>\n",
       "    <tr>\n",
       "      <th>0</th>\n",
       "      <td>Dickens</td>\n",
       "      <td>Tale</td>\n",
       "      <td>It was the best of times, it was the worst of ...</td>\n",
       "    </tr>\n",
       "    <tr>\n",
       "      <th>1</th>\n",
       "      <td>Dickens</td>\n",
       "      <td>Tale</td>\n",
       "      <td>There were a king with a large jaw and a queen...</td>\n",
       "    </tr>\n",
       "    <tr>\n",
       "      <th>2</th>\n",
       "      <td>Dickens</td>\n",
       "      <td>Tale</td>\n",
       "      <td>It was the year of Our Lord one thousand seven...</td>\n",
       "    </tr>\n",
       "    <tr>\n",
       "      <th>3</th>\n",
       "      <td>Dickens</td>\n",
       "      <td>Tale</td>\n",
       "      <td>France, less favoured on the whole as to matte...</td>\n",
       "    </tr>\n",
       "    <tr>\n",
       "      <th>4</th>\n",
       "      <td>Dickens</td>\n",
       "      <td>Tale</td>\n",
       "      <td>In England, there was scarcely an amount of or...</td>\n",
       "    </tr>\n",
       "  </tbody>\n",
       "</table>\n",
       "</div>"
      ],
      "text/plain": [
       "    author title                                               text\n",
       "0  Dickens  Tale  It was the best of times, it was the worst of ...\n",
       "1  Dickens  Tale  There were a king with a large jaw and a queen...\n",
       "2  Dickens  Tale  It was the year of Our Lord one thousand seven...\n",
       "3  Dickens  Tale  France, less favoured on the whole as to matte...\n",
       "4  Dickens  Tale  In England, there was scarcely an amount of or..."
      ]
     },
     "execution_count": 17,
     "metadata": {},
     "output_type": "execute_result"
    }
   ],
   "source": [
    "# Sanity check\n",
    "tale_df.head()"
   ]
  },
  {
   "cell_type": "markdown",
   "metadata": {},
   "source": [
    "### Lemmatize text\n",
    "Now that we have our text divided by paragraphs and stored in a DataFrame, let's apply some nlp to extract the lemmas. We will then place the lemmas into a new column in our DataDrame."
   ]
  },
  {
   "cell_type": "code",
   "execution_count": 18,
   "metadata": {},
   "outputs": [],
   "source": [
    "# extract lemmas\n",
    "def process_text(text):\n",
    "    \"\"\"Remove new line characters and lemmatize text. Returns string of lemmas\"\"\"\n",
    "    text = text.replace('\\n', ' ')\n",
    "    doc = nlp(text)\n",
    "    tokens = [token for token in doc]\n",
    "    no_stops = [token for token in tokens if not token.is_stop]\n",
    "    no_punct = [token for token in no_stops if token.is_alpha]\n",
    "    lemmas = [token.lemma_ for token in no_punct]\n",
    "    lemmas_lower = [lemma.lower() for lemma in lemmas]\n",
    "    lemmas_string = ' '.join(lemmas_lower)\n",
    "    return lemmas_string"
   ]
  },
  {
   "cell_type": "code",
   "execution_count": 19,
   "metadata": {},
   "outputs": [],
   "source": [
    "# apply process_text to text column\n",
    "tale_df['lemmas']= tale_df['text'].apply(process_text)"
   ]
  },
  {
   "cell_type": "code",
   "execution_count": 20,
   "metadata": {},
   "outputs": [
    {
     "data": {
      "text/html": [
       "<div>\n",
       "<style scoped>\n",
       "    .dataframe tbody tr th:only-of-type {\n",
       "        vertical-align: middle;\n",
       "    }\n",
       "\n",
       "    .dataframe tbody tr th {\n",
       "        vertical-align: top;\n",
       "    }\n",
       "\n",
       "    .dataframe thead th {\n",
       "        text-align: right;\n",
       "    }\n",
       "</style>\n",
       "<table border=\"1\" class=\"dataframe\">\n",
       "  <thead>\n",
       "    <tr style=\"text-align: right;\">\n",
       "      <th></th>\n",
       "      <th>author</th>\n",
       "      <th>title</th>\n",
       "      <th>text</th>\n",
       "      <th>lemmas</th>\n",
       "    </tr>\n",
       "  </thead>\n",
       "  <tbody>\n",
       "    <tr>\n",
       "      <th>0</th>\n",
       "      <td>Dickens</td>\n",
       "      <td>Tale</td>\n",
       "      <td>It was the best of times, it was the worst of ...</td>\n",
       "      <td>good time bad time age wisdom age foolishness ...</td>\n",
       "    </tr>\n",
       "    <tr>\n",
       "      <th>1</th>\n",
       "      <td>Dickens</td>\n",
       "      <td>Tale</td>\n",
       "      <td>There were a king with a large jaw and a queen...</td>\n",
       "      <td>king large jaw queen plain face throne england...</td>\n",
       "    </tr>\n",
       "    <tr>\n",
       "      <th>2</th>\n",
       "      <td>Dickens</td>\n",
       "      <td>Tale</td>\n",
       "      <td>It was the year of Our Lord one thousand seven...</td>\n",
       "      <td>year lord thousand seven seventy spiritual rev...</td>\n",
       "    </tr>\n",
       "    <tr>\n",
       "      <th>3</th>\n",
       "      <td>Dickens</td>\n",
       "      <td>Tale</td>\n",
       "      <td>France, less favoured on the whole as to matte...</td>\n",
       "      <td>france favour matter spiritual sister shield t...</td>\n",
       "    </tr>\n",
       "    <tr>\n",
       "      <th>4</th>\n",
       "      <td>Dickens</td>\n",
       "      <td>Tale</td>\n",
       "      <td>In England, there was scarcely an amount of or...</td>\n",
       "      <td>england scarcely order protection justify nati...</td>\n",
       "    </tr>\n",
       "  </tbody>\n",
       "</table>\n",
       "</div>"
      ],
      "text/plain": [
       "    author title                                               text  \\\n",
       "0  Dickens  Tale  It was the best of times, it was the worst of ...   \n",
       "1  Dickens  Tale  There were a king with a large jaw and a queen...   \n",
       "2  Dickens  Tale  It was the year of Our Lord one thousand seven...   \n",
       "3  Dickens  Tale  France, less favoured on the whole as to matte...   \n",
       "4  Dickens  Tale  In England, there was scarcely an amount of or...   \n",
       "\n",
       "                                              lemmas  \n",
       "0  good time bad time age wisdom age foolishness ...  \n",
       "1  king large jaw queen plain face throne england...  \n",
       "2  year lord thousand seven seventy spiritual rev...  \n",
       "3  france favour matter spiritual sister shield t...  \n",
       "4  england scarcely order protection justify nati...  "
      ]
     },
     "execution_count": 20,
     "metadata": {},
     "output_type": "execute_result"
    }
   ],
   "source": [
    "# sanity check\n",
    "tale_df.head()"
   ]
  },
  {
   "cell_type": "markdown",
   "metadata": {},
   "source": [
    "### Making our code more efficient with functions.\n",
    "\n",
    "The code above worked well, but if we want to get more texts, it will be useful to make our code more efficient by using functions."
   ]
  },
  {
   "cell_type": "code",
   "execution_count": 21,
   "metadata": {},
   "outputs": [],
   "source": [
    "# make a function for all the above\n",
    "def get_text(url):\n",
    "    response= requests.get(url)\n",
    "    text= response.text\n",
    "    return text\n"
   ]
  },
  {
   "cell_type": "code",
   "execution_count": 22,
   "metadata": {},
   "outputs": [],
   "source": [
    "def divide_paras(text, start, end, para_break):\n",
    "    text= text[start:end]\n",
    "    paras= text.split(para_break)\n",
    "    return paras\n"
   ]
  },
  {
   "cell_type": "code",
   "execution_count": 23,
   "metadata": {},
   "outputs": [],
   "source": [
    "def make_df(author, title, paras):\n",
    "    df = pd.DataFrame(paras, columns=['text'])\n",
    "    df.insert(0, 'author', author)\n",
    "    df.insert(1, 'title', title)\n",
    "    return df\n"
   ]
  },
  {
   "cell_type": "markdown",
   "metadata": {},
   "source": [
    "Now that we have written our functions, we can get our next text: _Great Expectations_."
   ]
  },
  {
   "cell_type": "code",
   "execution_count": 24,
   "metadata": {},
   "outputs": [],
   "source": [
    "# get text\n",
    "text= get_text('https://gutenberg.org/cache/epub/1400/pg1400.txt')"
   ]
  },
  {
   "cell_type": "code",
   "execution_count": 25,
   "metadata": {},
   "outputs": [
    {
     "data": {
      "text/plain": [
       "'\\ufeffThe Project Gutenberg eBook of Great Expectations\\r\\n    \\r\\nThis ebook is for the use of anyone anywhere in the United States and\\r\\nmost other parts of the world at no cost and with almost no restrictions\\r\\nwhatsoever. You may copy it, give it away or re'"
      ]
     },
     "execution_count": 25,
     "metadata": {},
     "output_type": "execute_result"
    }
   ],
   "source": [
    "text[:250]"
   ]
  },
  {
   "cell_type": "markdown",
   "metadata": {},
   "source": [
    "Now that we have our text, we need to cut out the beginning and ending material we are not interested in. HOWEVER, we are going to run into an error with _Great Expectations_."
   ]
  },
  {
   "cell_type": "code",
   "execution_count": 26,
   "metadata": {},
   "outputs": [],
   "source": [
    "# set start index\n",
    "start= text.find('My father’s family name being Pirrip')"
   ]
  },
  {
   "cell_type": "code",
   "execution_count": 27,
   "metadata": {},
   "outputs": [
    {
     "data": {
      "text/plain": [
       "1874"
      ]
     },
     "execution_count": 27,
     "metadata": {},
     "output_type": "execute_result"
    }
   ],
   "source": [
    "# sanity check\n",
    "start"
   ]
  },
  {
   "cell_type": "markdown",
   "metadata": {},
   "source": [
    "### Error!\n",
    "\n",
    "The `-1` index means that we were not able to find that substring of characters in the text. Something is wrong with the encoding. We can investigate the text if we write it to a file."
   ]
  },
  {
   "cell_type": "code",
   "execution_count": null,
   "metadata": {},
   "outputs": [],
   "source": [
    "with open('great_expectations.txt', encoding='utf8', mode='w') as f:\n",
    "    f.write(text)"
   ]
  },
  {
   "cell_type": "markdown",
   "metadata": {},
   "source": [
    "If you look cloely at the text file, you will see that the line \"My father’s family name being Pirrip\" is actually \"My fatherâs family name being Pirrip...\" There are some funny characters in this text!"
   ]
  },
  {
   "cell_type": "code",
   "execution_count": null,
   "metadata": {},
   "outputs": [],
   "source": [
    "# set start index (again)\n"
   ]
  },
  {
   "cell_type": "code",
   "execution_count": null,
   "metadata": {},
   "outputs": [],
   "source": [
    "#sanity check:\n"
   ]
  },
  {
   "cell_type": "code",
   "execution_count": 28,
   "metadata": {},
   "outputs": [],
   "source": [
    "# set end index\n",
    "end= text.find('*** END OF THE PROJECT GUTENBERG EBOOK GREAT EXPECTATIONS ***')"
   ]
  },
  {
   "cell_type": "code",
   "execution_count": 29,
   "metadata": {},
   "outputs": [
    {
     "data": {
      "text/plain": [
       "1015861"
      ]
     },
     "execution_count": 29,
     "metadata": {},
     "output_type": "execute_result"
    }
   ],
   "source": [
    "#sanity check\n",
    "end"
   ]
  },
  {
   "cell_type": "code",
   "execution_count": 30,
   "metadata": {},
   "outputs": [],
   "source": [
    "# set paragraph break\n",
    "para_break = '\\r\\n\\r\\n'"
   ]
  },
  {
   "cell_type": "code",
   "execution_count": 31,
   "metadata": {
    "scrolled": true
   },
   "outputs": [],
   "source": [
    "# divide text into paragraphs\n",
    "expectations_paras= divide_paras(text=text, start=start, end=end, para_break= para_break)"
   ]
  },
  {
   "cell_type": "code",
   "execution_count": 32,
   "metadata": {},
   "outputs": [],
   "source": [
    "# make DataFrame\n",
    "expectations_df= make_df(author= 'Dickens', title= 'Expectations', paras= expectations_paras)"
   ]
  },
  {
   "cell_type": "code",
   "execution_count": 33,
   "metadata": {},
   "outputs": [
    {
     "data": {
      "text/html": [
       "<div>\n",
       "<style scoped>\n",
       "    .dataframe tbody tr th:only-of-type {\n",
       "        vertical-align: middle;\n",
       "    }\n",
       "\n",
       "    .dataframe tbody tr th {\n",
       "        vertical-align: top;\n",
       "    }\n",
       "\n",
       "    .dataframe thead th {\n",
       "        text-align: right;\n",
       "    }\n",
       "</style>\n",
       "<table border=\"1\" class=\"dataframe\">\n",
       "  <thead>\n",
       "    <tr style=\"text-align: right;\">\n",
       "      <th></th>\n",
       "      <th>author</th>\n",
       "      <th>title</th>\n",
       "      <th>text</th>\n",
       "    </tr>\n",
       "  </thead>\n",
       "  <tbody>\n",
       "    <tr>\n",
       "      <th>0</th>\n",
       "      <td>Dickens</td>\n",
       "      <td>Expectations</td>\n",
       "      <td>My father’s family name being Pirrip, and my C...</td>\n",
       "    </tr>\n",
       "    <tr>\n",
       "      <th>1</th>\n",
       "      <td>Dickens</td>\n",
       "      <td>Expectations</td>\n",
       "      <td>I give Pirrip as my father’s family name, on t...</td>\n",
       "    </tr>\n",
       "    <tr>\n",
       "      <th>2</th>\n",
       "      <td>Dickens</td>\n",
       "      <td>Expectations</td>\n",
       "      <td>Ours was the marsh country, down by the river,...</td>\n",
       "    </tr>\n",
       "    <tr>\n",
       "      <th>3</th>\n",
       "      <td>Dickens</td>\n",
       "      <td>Expectations</td>\n",
       "      <td>“Hold your noise!” cried a terrible voice, as ...</td>\n",
       "    </tr>\n",
       "    <tr>\n",
       "      <th>4</th>\n",
       "      <td>Dickens</td>\n",
       "      <td>Expectations</td>\n",
       "      <td>A fearful man, all in coarse grey, with a grea...</td>\n",
       "    </tr>\n",
       "  </tbody>\n",
       "</table>\n",
       "</div>"
      ],
      "text/plain": [
       "    author         title                                               text\n",
       "0  Dickens  Expectations  My father’s family name being Pirrip, and my C...\n",
       "1  Dickens  Expectations  I give Pirrip as my father’s family name, on t...\n",
       "2  Dickens  Expectations  Ours was the marsh country, down by the river,...\n",
       "3  Dickens  Expectations  “Hold your noise!” cried a terrible voice, as ...\n",
       "4  Dickens  Expectations  A fearful man, all in coarse grey, with a grea..."
      ]
     },
     "execution_count": 33,
     "metadata": {},
     "output_type": "execute_result"
    }
   ],
   "source": [
    "# sanity check\n",
    "expectations_df.head()"
   ]
  },
  {
   "cell_type": "code",
   "execution_count": 34,
   "metadata": {},
   "outputs": [],
   "source": [
    "# extract lemmas\n",
    "expectations_df['lemmas']= expectations_df['text'].apply(process_text)"
   ]
  },
  {
   "cell_type": "code",
   "execution_count": 35,
   "metadata": {},
   "outputs": [
    {
     "data": {
      "text/html": [
       "<div>\n",
       "<style scoped>\n",
       "    .dataframe tbody tr th:only-of-type {\n",
       "        vertical-align: middle;\n",
       "    }\n",
       "\n",
       "    .dataframe tbody tr th {\n",
       "        vertical-align: top;\n",
       "    }\n",
       "\n",
       "    .dataframe thead th {\n",
       "        text-align: right;\n",
       "    }\n",
       "</style>\n",
       "<table border=\"1\" class=\"dataframe\">\n",
       "  <thead>\n",
       "    <tr style=\"text-align: right;\">\n",
       "      <th></th>\n",
       "      <th>author</th>\n",
       "      <th>title</th>\n",
       "      <th>text</th>\n",
       "      <th>lemmas</th>\n",
       "    </tr>\n",
       "  </thead>\n",
       "  <tbody>\n",
       "    <tr>\n",
       "      <th>0</th>\n",
       "      <td>Dickens</td>\n",
       "      <td>Expectations</td>\n",
       "      <td>My father’s family name being Pirrip, and my C...</td>\n",
       "      <td>father family pirrip christian philip infant t...</td>\n",
       "    </tr>\n",
       "    <tr>\n",
       "      <th>1</th>\n",
       "      <td>Dickens</td>\n",
       "      <td>Expectations</td>\n",
       "      <td>I give Pirrip as my father’s family name, on t...</td>\n",
       "      <td>pirrip father family authority tombstone joe g...</td>\n",
       "    </tr>\n",
       "    <tr>\n",
       "      <th>2</th>\n",
       "      <td>Dickens</td>\n",
       "      <td>Expectations</td>\n",
       "      <td>Ours was the marsh country, down by the river,...</td>\n",
       "      <td>marsh country river river wound mile sea vivid...</td>\n",
       "    </tr>\n",
       "    <tr>\n",
       "      <th>3</th>\n",
       "      <td>Dickens</td>\n",
       "      <td>Expectations</td>\n",
       "      <td>“Hold your noise!” cried a terrible voice, as ...</td>\n",
       "      <td>hold noise cry terrible voice man start grave ...</td>\n",
       "    </tr>\n",
       "    <tr>\n",
       "      <th>4</th>\n",
       "      <td>Dickens</td>\n",
       "      <td>Expectations</td>\n",
       "      <td>A fearful man, all in coarse grey, with a grea...</td>\n",
       "      <td>fearful man coarse grey great iron leg man hat...</td>\n",
       "    </tr>\n",
       "  </tbody>\n",
       "</table>\n",
       "</div>"
      ],
      "text/plain": [
       "    author         title                                               text  \\\n",
       "0  Dickens  Expectations  My father’s family name being Pirrip, and my C...   \n",
       "1  Dickens  Expectations  I give Pirrip as my father’s family name, on t...   \n",
       "2  Dickens  Expectations  Ours was the marsh country, down by the river,...   \n",
       "3  Dickens  Expectations  “Hold your noise!” cried a terrible voice, as ...   \n",
       "4  Dickens  Expectations  A fearful man, all in coarse grey, with a grea...   \n",
       "\n",
       "                                              lemmas  \n",
       "0  father family pirrip christian philip infant t...  \n",
       "1  pirrip father family authority tombstone joe g...  \n",
       "2  marsh country river river wound mile sea vivid...  \n",
       "3  hold noise cry terrible voice man start grave ...  \n",
       "4  fearful man coarse grey great iron leg man hat...  "
      ]
     },
     "execution_count": 35,
     "metadata": {},
     "output_type": "execute_result"
    }
   ],
   "source": [
    "expectations_df.head()"
   ]
  },
  {
   "cell_type": "markdown",
   "metadata": {},
   "source": [
    "### On your own: Christmas Carol\n",
    "\n",
    "Based on the code above, can you create a dataset from _A Christmas Carol_?\n",
    "\n",
    "Here is a url to get you started: `https://www.gutenberg.org/cache/epub/46/pg46.txt`"
   ]
  },
  {
   "cell_type": "code",
   "execution_count": 37,
   "metadata": {},
   "outputs": [],
   "source": [
    "# get text\n",
    "text= get_text('https://www.gutenberg.org/cache/epub/46/pg46.txt')"
   ]
  },
  {
   "cell_type": "code",
   "execution_count": 41,
   "metadata": {},
   "outputs": [],
   "source": [
    "# set start index\n",
    "start= text.find('MARLEY was dead: to begin with')"
   ]
  },
  {
   "cell_type": "code",
   "execution_count": 42,
   "metadata": {},
   "outputs": [
    {
     "data": {
      "text/plain": [
       "1607"
      ]
     },
     "execution_count": 42,
     "metadata": {},
     "output_type": "execute_result"
    }
   ],
   "source": [
    "start"
   ]
  },
  {
   "cell_type": "code",
   "execution_count": 40,
   "metadata": {},
   "outputs": [],
   "source": [
    "with open('great_expectations.txt', encoding='utf8', mode='w') as f:\n",
    "    f.write(text)"
   ]
  },
  {
   "cell_type": "code",
   "execution_count": 43,
   "metadata": {
    "scrolled": true
   },
   "outputs": [],
   "source": [
    "# set end index\n",
    "end= text.find('*** END OF THE PROJECT GUTENBERG EBOOK A CHRISTMAS CAROL IN PROSE; BEING A GHOST STORY OF CHRISTMAS ***')"
   ]
  },
  {
   "cell_type": "code",
   "execution_count": 44,
   "metadata": {},
   "outputs": [
    {
     "data": {
      "text/plain": [
       "163208"
      ]
     },
     "execution_count": 44,
     "metadata": {},
     "output_type": "execute_result"
    }
   ],
   "source": [
    "end"
   ]
  },
  {
   "cell_type": "code",
   "execution_count": 45,
   "metadata": {},
   "outputs": [],
   "source": [
    "# set paragraph break\n",
    "para_break = '\\r\\n\\r\\n'"
   ]
  },
  {
   "cell_type": "code",
   "execution_count": 46,
   "metadata": {},
   "outputs": [],
   "source": [
    "# divide text into paragr\n",
    "carol_paras= divide_paras(text=text, start=start, end=end, para_break= para_break)"
   ]
  },
  {
   "cell_type": "code",
   "execution_count": 47,
   "metadata": {},
   "outputs": [],
   "source": [
    "# make DataFrame\n",
    "carol_df= make_df(author= 'Dickens', title= 'Carol', paras= expectations_paras)"
   ]
  },
  {
   "cell_type": "code",
   "execution_count": 50,
   "metadata": {},
   "outputs": [],
   "source": [
    "# extract lemmas\n",
    "carol_df['lemmas']= carol_df['text'].apply(process_text)"
   ]
  },
  {
   "cell_type": "code",
   "execution_count": 51,
   "metadata": {},
   "outputs": [
    {
     "data": {
      "text/html": [
       "<div>\n",
       "<style scoped>\n",
       "    .dataframe tbody tr th:only-of-type {\n",
       "        vertical-align: middle;\n",
       "    }\n",
       "\n",
       "    .dataframe tbody tr th {\n",
       "        vertical-align: top;\n",
       "    }\n",
       "\n",
       "    .dataframe thead th {\n",
       "        text-align: right;\n",
       "    }\n",
       "</style>\n",
       "<table border=\"1\" class=\"dataframe\">\n",
       "  <thead>\n",
       "    <tr style=\"text-align: right;\">\n",
       "      <th></th>\n",
       "      <th>author</th>\n",
       "      <th>title</th>\n",
       "      <th>text</th>\n",
       "      <th>lemmas</th>\n",
       "    </tr>\n",
       "  </thead>\n",
       "  <tbody>\n",
       "    <tr>\n",
       "      <th>0</th>\n",
       "      <td>Dickens</td>\n",
       "      <td>Carol</td>\n",
       "      <td>My father’s family name being Pirrip, and my C...</td>\n",
       "      <td>father family pirrip christian philip infant t...</td>\n",
       "    </tr>\n",
       "    <tr>\n",
       "      <th>1</th>\n",
       "      <td>Dickens</td>\n",
       "      <td>Carol</td>\n",
       "      <td>I give Pirrip as my father’s family name, on t...</td>\n",
       "      <td>pirrip father family authority tombstone joe g...</td>\n",
       "    </tr>\n",
       "    <tr>\n",
       "      <th>2</th>\n",
       "      <td>Dickens</td>\n",
       "      <td>Carol</td>\n",
       "      <td>Ours was the marsh country, down by the river,...</td>\n",
       "      <td>marsh country river river wound mile sea vivid...</td>\n",
       "    </tr>\n",
       "    <tr>\n",
       "      <th>3</th>\n",
       "      <td>Dickens</td>\n",
       "      <td>Carol</td>\n",
       "      <td>“Hold your noise!” cried a terrible voice, as ...</td>\n",
       "      <td>hold noise cry terrible voice man start grave ...</td>\n",
       "    </tr>\n",
       "    <tr>\n",
       "      <th>4</th>\n",
       "      <td>Dickens</td>\n",
       "      <td>Carol</td>\n",
       "      <td>A fearful man, all in coarse grey, with a grea...</td>\n",
       "      <td>fearful man coarse grey great iron leg man hat...</td>\n",
       "    </tr>\n",
       "  </tbody>\n",
       "</table>\n",
       "</div>"
      ],
      "text/plain": [
       "    author  title                                               text  \\\n",
       "0  Dickens  Carol  My father’s family name being Pirrip, and my C...   \n",
       "1  Dickens  Carol  I give Pirrip as my father’s family name, on t...   \n",
       "2  Dickens  Carol  Ours was the marsh country, down by the river,...   \n",
       "3  Dickens  Carol  “Hold your noise!” cried a terrible voice, as ...   \n",
       "4  Dickens  Carol  A fearful man, all in coarse grey, with a grea...   \n",
       "\n",
       "                                              lemmas  \n",
       "0  father family pirrip christian philip infant t...  \n",
       "1  pirrip father family authority tombstone joe g...  \n",
       "2  marsh country river river wound mile sea vivid...  \n",
       "3  hold noise cry terrible voice man start grave ...  \n",
       "4  fearful man coarse grey great iron leg man hat...  "
      ]
     },
     "execution_count": 51,
     "metadata": {},
     "output_type": "execute_result"
    }
   ],
   "source": [
    "carol_df.head()"
   ]
  },
  {
   "cell_type": "markdown",
   "metadata": {},
   "source": [
    "## Combine DataFrames"
   ]
  },
  {
   "cell_type": "code",
   "execution_count": 52,
   "metadata": {},
   "outputs": [],
   "source": [
    "# combine DataFrames\n",
    "final_df = pd.concat([tale_df, expectations_df, carol_df], axis=0)"
   ]
  },
  {
   "cell_type": "code",
   "execution_count": 53,
   "metadata": {},
   "outputs": [
    {
     "data": {
      "text/html": [
       "<div>\n",
       "<style scoped>\n",
       "    .dataframe tbody tr th:only-of-type {\n",
       "        vertical-align: middle;\n",
       "    }\n",
       "\n",
       "    .dataframe tbody tr th {\n",
       "        vertical-align: top;\n",
       "    }\n",
       "\n",
       "    .dataframe thead th {\n",
       "        text-align: right;\n",
       "    }\n",
       "</style>\n",
       "<table border=\"1\" class=\"dataframe\">\n",
       "  <thead>\n",
       "    <tr style=\"text-align: right;\">\n",
       "      <th></th>\n",
       "      <th>author</th>\n",
       "      <th>title</th>\n",
       "      <th>text</th>\n",
       "      <th>lemmas</th>\n",
       "    </tr>\n",
       "  </thead>\n",
       "  <tbody>\n",
       "    <tr>\n",
       "      <th>2986</th>\n",
       "      <td>Dickens</td>\n",
       "      <td>Carol</td>\n",
       "      <td>Her fingers stopped for the first time, as she...</td>\n",
       "      <td>finger stop time retort angrily tell think spi...</td>\n",
       "    </tr>\n",
       "    <tr>\n",
       "      <th>1542</th>\n",
       "      <td>Dickens</td>\n",
       "      <td>Carol</td>\n",
       "      <td>“Why, if it ain’t your footstool!” cried Flops...</td>\n",
       "      <td>ai footstool cry flopson skirt like help tumbl...</td>\n",
       "    </tr>\n",
       "    <tr>\n",
       "      <th>1100</th>\n",
       "      <td>Dickens</td>\n",
       "      <td>Tale</td>\n",
       "      <td>All these trivial incidents belonged to the ro...</td>\n",
       "      <td>trivial incident belong routine life return mo...</td>\n",
       "    </tr>\n",
       "    <tr>\n",
       "      <th>1434</th>\n",
       "      <td>Dickens</td>\n",
       "      <td>Carol</td>\n",
       "      <td>\\r\\nChapter XXII.</td>\n",
       "      <td>chapter xxii</td>\n",
       "    </tr>\n",
       "    <tr>\n",
       "      <th>1402</th>\n",
       "      <td>Dickens</td>\n",
       "      <td>Carol</td>\n",
       "      <td>He wore his hat on the back of his head, and l...</td>\n",
       "      <td>wear hat head look straight walk self contain ...</td>\n",
       "    </tr>\n",
       "    <tr>\n",
       "      <th>199</th>\n",
       "      <td>Dickens</td>\n",
       "      <td>Expectations</td>\n",
       "      <td>I think the Romans must have aggravated one an...</td>\n",
       "      <td>think romans aggravate nose restless people co...</td>\n",
       "    </tr>\n",
       "    <tr>\n",
       "      <th>2144</th>\n",
       "      <td>Dickens</td>\n",
       "      <td>Expectations</td>\n",
       "      <td>“Why then,” said the turnkey, grinning again, ...</td>\n",
       "      <td>say turnkey grin know jaggers</td>\n",
       "    </tr>\n",
       "    <tr>\n",
       "      <th>1850</th>\n",
       "      <td>Dickens</td>\n",
       "      <td>Tale</td>\n",
       "      <td>“I forgot it long ago.”</td>\n",
       "      <td>forget long ago</td>\n",
       "    </tr>\n",
       "    <tr>\n",
       "      <th>2606</th>\n",
       "      <td>Dickens</td>\n",
       "      <td>Tale</td>\n",
       "      <td>“I’ll run them over. I’ll see what I hold,--Mr...</td>\n",
       "      <td>run lorry know brute wish little brandy</td>\n",
       "    </tr>\n",
       "    <tr>\n",
       "      <th>2815</th>\n",
       "      <td>Dickens</td>\n",
       "      <td>Carol</td>\n",
       "      <td>“Assuredly,” replied Herbert.</td>\n",
       "      <td>assuredly reply herbert</td>\n",
       "    </tr>\n",
       "    <tr>\n",
       "      <th>3186</th>\n",
       "      <td>Dickens</td>\n",
       "      <td>Expectations</td>\n",
       "      <td>“So here’s to Mrs. Bentley Drummle,” said Mr. ...</td>\n",
       "      <td>bentley drummle say jaggers take decanter choi...</td>\n",
       "    </tr>\n",
       "    <tr>\n",
       "      <th>164</th>\n",
       "      <td>Dickens</td>\n",
       "      <td>Expectations</td>\n",
       "      <td>I said I had been down to hear the Carols. “Ah...</td>\n",
       "      <td>say hear carols ah observe joe ha bad doubt think</td>\n",
       "    </tr>\n",
       "    <tr>\n",
       "      <th>2779</th>\n",
       "      <td>Dickens</td>\n",
       "      <td>Tale</td>\n",
       "      <td>Defarge was produced, when the court was quiet...</td>\n",
       "      <td>defarge produce court quiet admit hear rapidly...</td>\n",
       "    </tr>\n",
       "    <tr>\n",
       "      <th>803</th>\n",
       "      <td>Dickens</td>\n",
       "      <td>Carol</td>\n",
       "      <td>“You are the husband,” repeated Miss Havisham,...</td>\n",
       "      <td>husband repeat miss havisham sister boy</td>\n",
       "    </tr>\n",
       "    <tr>\n",
       "      <th>69</th>\n",
       "      <td>Dickens</td>\n",
       "      <td>Carol</td>\n",
       "      <td>As she applied herself to set the tea-things, ...</td>\n",
       "      <td>apply set tea thing joe peep leg mentally cast...</td>\n",
       "    </tr>\n",
       "    <tr>\n",
       "      <th>3859</th>\n",
       "      <td>Dickens</td>\n",
       "      <td>Expectations</td>\n",
       "      <td>As he extended his hand with a magnificently f...</td>\n",
       "      <td>extend hand magnificently forgiving air break ...</td>\n",
       "    </tr>\n",
       "    <tr>\n",
       "      <th>1480</th>\n",
       "      <td>Dickens</td>\n",
       "      <td>Tale</td>\n",
       "      <td>He imitated the action of a man’s being impell...</td>\n",
       "      <td>imitate action man impel forward butt end musket</td>\n",
       "    </tr>\n",
       "    <tr>\n",
       "      <th>38</th>\n",
       "      <td>Dickens</td>\n",
       "      <td>Carol</td>\n",
       "      <td>“Say Lord strike you dead if you don’t!” said ...</td>\n",
       "      <td>lord strike dead say man</td>\n",
       "    </tr>\n",
       "    <tr>\n",
       "      <th>2817</th>\n",
       "      <td>Dickens</td>\n",
       "      <td>Expectations</td>\n",
       "      <td>“I understand it to do so.”</td>\n",
       "      <td>understand</td>\n",
       "    </tr>\n",
       "    <tr>\n",
       "      <th>605</th>\n",
       "      <td>Dickens</td>\n",
       "      <td>Expectations</td>\n",
       "      <td>Mr. Wopsle, with a majestic remembrance of old...</td>\n",
       "      <td>wopsle majestic remembrance old discomfiture a...</td>\n",
       "    </tr>\n",
       "    <tr>\n",
       "      <th>222</th>\n",
       "      <td>Dickens</td>\n",
       "      <td>Tale</td>\n",
       "      <td>This wine-shop keeper was a bull-necked, marti...</td>\n",
       "      <td>wine shop keeper bull neck martial look man th...</td>\n",
       "    </tr>\n",
       "    <tr>\n",
       "      <th>3236</th>\n",
       "      <td>Dickens</td>\n",
       "      <td>Expectations</td>\n",
       "      <td>“Do you break off,” she asked then, with her f...</td>\n",
       "      <td>break ask air afraid hate bear speak</td>\n",
       "    </tr>\n",
       "    <tr>\n",
       "      <th>2649</th>\n",
       "      <td>Dickens</td>\n",
       "      <td>Expectations</td>\n",
       "      <td>\\r\\nIt was fortunate for me that I had to take...</td>\n",
       "      <td>fortunate precaution ensure far safety dreaded...</td>\n",
       "    </tr>\n",
       "    <tr>\n",
       "      <th>3245</th>\n",
       "      <td>Dickens</td>\n",
       "      <td>Tale</td>\n",
       "      <td>“I go so far as to say, miss, moreover,” proce...</td>\n",
       "      <td>far miss proceed cruncher alarming tendency ho...</td>\n",
       "    </tr>\n",
       "    <tr>\n",
       "      <th>1857</th>\n",
       "      <td>Dickens</td>\n",
       "      <td>Expectations</td>\n",
       "      <td>“More fool you,” growled the other. “I’d have ...</td>\n",
       "      <td>fool growl spend man wittle drink green mean know</td>\n",
       "    </tr>\n",
       "    <tr>\n",
       "      <th>3377</th>\n",
       "      <td>Dickens</td>\n",
       "      <td>Expectations</td>\n",
       "      <td>A certain stop that Mr. Jaggers came to in his...</td>\n",
       "      <td>certain stop jaggers come manner self possess ...</td>\n",
       "    </tr>\n",
       "    <tr>\n",
       "      <th>986</th>\n",
       "      <td>Dickens</td>\n",
       "      <td>Expectations</td>\n",
       "      <td>Orlick, without a doubt! She had lost his name...</td>\n",
       "      <td>orlick doubt lose signify hammer tell want com...</td>\n",
       "    </tr>\n",
       "    <tr>\n",
       "      <th>3159</th>\n",
       "      <td>Dickens</td>\n",
       "      <td>Expectations</td>\n",
       "      <td>“For the Temple, I think,” said I.</td>\n",
       "      <td>temple think say</td>\n",
       "    </tr>\n",
       "    <tr>\n",
       "      <th>2686</th>\n",
       "      <td>Dickens</td>\n",
       "      <td>Tale</td>\n",
       "      <td>“I am going now, directly.”</td>\n",
       "      <td>go directly</td>\n",
       "    </tr>\n",
       "    <tr>\n",
       "      <th>2267</th>\n",
       "      <td>Dickens</td>\n",
       "      <td>Expectations</td>\n",
       "      <td>“Biddy,” said I, “I think you might have writt...</td>\n",
       "      <td>biddy say think write sad matter</td>\n",
       "    </tr>\n",
       "    <tr>\n",
       "      <th>3607</th>\n",
       "      <td>Dickens</td>\n",
       "      <td>Expectations</td>\n",
       "      <td>“Why, what do you make out that they done with...</td>\n",
       "      <td>button jack ask landlord vacillate weakly</td>\n",
       "    </tr>\n",
       "    <tr>\n",
       "      <th>526</th>\n",
       "      <td>Dickens</td>\n",
       "      <td>Carol</td>\n",
       "      <td>“Was anybody else there?” asked Mr. Pumblechook.</td>\n",
       "      <td>anybody ask pumblechook</td>\n",
       "    </tr>\n",
       "    <tr>\n",
       "      <th>2054</th>\n",
       "      <td>Dickens</td>\n",
       "      <td>Expectations</td>\n",
       "      <td>“Name of Clara,” said Herbert.</td>\n",
       "      <td>clara say herbert</td>\n",
       "    </tr>\n",
       "    <tr>\n",
       "      <th>1666</th>\n",
       "      <td>Dickens</td>\n",
       "      <td>Carol</td>\n",
       "      <td>“Is he never robbed?”</td>\n",
       "      <td>rob</td>\n",
       "    </tr>\n",
       "    <tr>\n",
       "      <th>964</th>\n",
       "      <td>Dickens</td>\n",
       "      <td>Tale</td>\n",
       "      <td>“Monseigneur, he precipitated himself over the...</td>\n",
       "      <td>monseigneur precipitate hill head person plung...</td>\n",
       "    </tr>\n",
       "    <tr>\n",
       "      <th>3531</th>\n",
       "      <td>Dickens</td>\n",
       "      <td>Carol</td>\n",
       "      <td>The resolution I had made did not desert me, f...</td>\n",
       "      <td>resolution desert utter vain word appeal shout...</td>\n",
       "    </tr>\n",
       "    <tr>\n",
       "      <th>814</th>\n",
       "      <td>Dickens</td>\n",
       "      <td>Expectations</td>\n",
       "      <td>“Joe!” I remonstrated, for he made no reply at...</td>\n",
       "      <td>joe remonstrate reply answer</td>\n",
       "    </tr>\n",
       "    <tr>\n",
       "      <th>732</th>\n",
       "      <td>Dickens</td>\n",
       "      <td>Expectations</td>\n",
       "      <td>I was going to wish her many happy returns, wh...</td>\n",
       "      <td>go wish happy return lift stick</td>\n",
       "    </tr>\n",
       "    <tr>\n",
       "      <th>1560</th>\n",
       "      <td>Dickens</td>\n",
       "      <td>Expectations</td>\n",
       "      <td>It came to my knowledge, through what passed b...</td>\n",
       "      <td>come knowledge pass pocket drummle attentive k...</td>\n",
       "    </tr>\n",
       "    <tr>\n",
       "      <th>2497</th>\n",
       "      <td>Dickens</td>\n",
       "      <td>Tale</td>\n",
       "      <td>They went out, leaving Lucie, and her husband,...</td>\n",
       "      <td>go leave lucie husband father child bright fir...</td>\n",
       "    </tr>\n",
       "    <tr>\n",
       "      <th>1846</th>\n",
       "      <td>Dickens</td>\n",
       "      <td>Tale</td>\n",
       "      <td>“I remember a certain famous occasion when you...</td>\n",
       "      <td>remember certain famous occasion force confess...</td>\n",
       "    </tr>\n",
       "    <tr>\n",
       "      <th>2198</th>\n",
       "      <td>Dickens</td>\n",
       "      <td>Expectations</td>\n",
       "      <td>“Are you intimate?”</td>\n",
       "      <td>intimate</td>\n",
       "    </tr>\n",
       "    <tr>\n",
       "      <th>468</th>\n",
       "      <td>Dickens</td>\n",
       "      <td>Carol</td>\n",
       "      <td>“Tell me in my ear,” said Miss Havisham, bendi...</td>\n",
       "      <td>tell ear say miss havisham bend</td>\n",
       "    </tr>\n",
       "    <tr>\n",
       "      <th>553</th>\n",
       "      <td>Dickens</td>\n",
       "      <td>Tale</td>\n",
       "      <td>“No.”</td>\n",
       "      <td></td>\n",
       "    </tr>\n",
       "    <tr>\n",
       "      <th>1385</th>\n",
       "      <td>Dickens</td>\n",
       "      <td>Expectations</td>\n",
       "      <td>My guardian then took me into his own room, an...</td>\n",
       "      <td>guardian take room lunch standing sandwich box...</td>\n",
       "    </tr>\n",
       "    <tr>\n",
       "      <th>2997</th>\n",
       "      <td>Dickens</td>\n",
       "      <td>Carol</td>\n",
       "      <td>“O Estella!” I answered, as my bitter tears fe...</td>\n",
       "      <td>o estella answer bitter tear fall fast hand re...</td>\n",
       "    </tr>\n",
       "    <tr>\n",
       "      <th>551</th>\n",
       "      <td>Dickens</td>\n",
       "      <td>Carol</td>\n",
       "      <td>“It’s a terrible thing, Joe; it ain’t true.”</td>\n",
       "      <td>terrible thing joe ai true</td>\n",
       "    </tr>\n",
       "    <tr>\n",
       "      <th>374</th>\n",
       "      <td>Dickens</td>\n",
       "      <td>Carol</td>\n",
       "      <td>“She ain’t in that line, Mum,” said Mr. Pumble...</td>\n",
       "      <td>ai line mum say pumblechook know well</td>\n",
       "    </tr>\n",
       "    <tr>\n",
       "      <th>977</th>\n",
       "      <td>Dickens</td>\n",
       "      <td>Tale</td>\n",
       "      <td>“Alas, no, Monseigneur! But he lies yonder, un...</td>\n",
       "      <td>alas monseigneur lie yonder little heap poor g...</td>\n",
       "    </tr>\n",
       "    <tr>\n",
       "      <th>191</th>\n",
       "      <td>Dickens</td>\n",
       "      <td>Carol</td>\n",
       "      <td>“He _was_, if ever a child was,” said my siste...</td>\n",
       "      <td>child say sister emphatically</td>\n",
       "    </tr>\n",
       "  </tbody>\n",
       "</table>\n",
       "</div>"
      ],
      "text/plain": [
       "       author         title  \\\n",
       "2986  Dickens         Carol   \n",
       "1542  Dickens         Carol   \n",
       "1100  Dickens          Tale   \n",
       "1434  Dickens         Carol   \n",
       "1402  Dickens         Carol   \n",
       "199   Dickens  Expectations   \n",
       "2144  Dickens  Expectations   \n",
       "1850  Dickens          Tale   \n",
       "2606  Dickens          Tale   \n",
       "2815  Dickens         Carol   \n",
       "3186  Dickens  Expectations   \n",
       "164   Dickens  Expectations   \n",
       "2779  Dickens          Tale   \n",
       "803   Dickens         Carol   \n",
       "69    Dickens         Carol   \n",
       "3859  Dickens  Expectations   \n",
       "1480  Dickens          Tale   \n",
       "38    Dickens         Carol   \n",
       "2817  Dickens  Expectations   \n",
       "605   Dickens  Expectations   \n",
       "222   Dickens          Tale   \n",
       "3236  Dickens  Expectations   \n",
       "2649  Dickens  Expectations   \n",
       "3245  Dickens          Tale   \n",
       "1857  Dickens  Expectations   \n",
       "3377  Dickens  Expectations   \n",
       "986   Dickens  Expectations   \n",
       "3159  Dickens  Expectations   \n",
       "2686  Dickens          Tale   \n",
       "2267  Dickens  Expectations   \n",
       "3607  Dickens  Expectations   \n",
       "526   Dickens         Carol   \n",
       "2054  Dickens  Expectations   \n",
       "1666  Dickens         Carol   \n",
       "964   Dickens          Tale   \n",
       "3531  Dickens         Carol   \n",
       "814   Dickens  Expectations   \n",
       "732   Dickens  Expectations   \n",
       "1560  Dickens  Expectations   \n",
       "2497  Dickens          Tale   \n",
       "1846  Dickens          Tale   \n",
       "2198  Dickens  Expectations   \n",
       "468   Dickens         Carol   \n",
       "553   Dickens          Tale   \n",
       "1385  Dickens  Expectations   \n",
       "2997  Dickens         Carol   \n",
       "551   Dickens         Carol   \n",
       "374   Dickens         Carol   \n",
       "977   Dickens          Tale   \n",
       "191   Dickens         Carol   \n",
       "\n",
       "                                                   text  \\\n",
       "2986  Her fingers stopped for the first time, as she...   \n",
       "1542  “Why, if it ain’t your footstool!” cried Flops...   \n",
       "1100  All these trivial incidents belonged to the ro...   \n",
       "1434                                  \\r\\nChapter XXII.   \n",
       "1402  He wore his hat on the back of his head, and l...   \n",
       "199   I think the Romans must have aggravated one an...   \n",
       "2144  “Why then,” said the turnkey, grinning again, ...   \n",
       "1850                            “I forgot it long ago.”   \n",
       "2606  “I’ll run them over. I’ll see what I hold,--Mr...   \n",
       "2815                      “Assuredly,” replied Herbert.   \n",
       "3186  “So here’s to Mrs. Bentley Drummle,” said Mr. ...   \n",
       "164   I said I had been down to hear the Carols. “Ah...   \n",
       "2779  Defarge was produced, when the court was quiet...   \n",
       "803   “You are the husband,” repeated Miss Havisham,...   \n",
       "69    As she applied herself to set the tea-things, ...   \n",
       "3859  As he extended his hand with a magnificently f...   \n",
       "1480  He imitated the action of a man’s being impell...   \n",
       "38    “Say Lord strike you dead if you don’t!” said ...   \n",
       "2817                        “I understand it to do so.”   \n",
       "605   Mr. Wopsle, with a majestic remembrance of old...   \n",
       "222   This wine-shop keeper was a bull-necked, marti...   \n",
       "3236  “Do you break off,” she asked then, with her f...   \n",
       "2649  \\r\\nIt was fortunate for me that I had to take...   \n",
       "3245  “I go so far as to say, miss, moreover,” proce...   \n",
       "1857  “More fool you,” growled the other. “I’d have ...   \n",
       "3377  A certain stop that Mr. Jaggers came to in his...   \n",
       "986   Orlick, without a doubt! She had lost his name...   \n",
       "3159                 “For the Temple, I think,” said I.   \n",
       "2686                        “I am going now, directly.”   \n",
       "2267  “Biddy,” said I, “I think you might have writt...   \n",
       "3607  “Why, what do you make out that they done with...   \n",
       "526    “Was anybody else there?” asked Mr. Pumblechook.   \n",
       "2054                     “Name of Clara,” said Herbert.   \n",
       "1666                              “Is he never robbed?”   \n",
       "964   “Monseigneur, he precipitated himself over the...   \n",
       "3531  The resolution I had made did not desert me, f...   \n",
       "814   “Joe!” I remonstrated, for he made no reply at...   \n",
       "732   I was going to wish her many happy returns, wh...   \n",
       "1560  It came to my knowledge, through what passed b...   \n",
       "2497  They went out, leaving Lucie, and her husband,...   \n",
       "1846  “I remember a certain famous occasion when you...   \n",
       "2198                                “Are you intimate?”   \n",
       "468   “Tell me in my ear,” said Miss Havisham, bendi...   \n",
       "553                                               “No.”   \n",
       "1385  My guardian then took me into his own room, an...   \n",
       "2997  “O Estella!” I answered, as my bitter tears fe...   \n",
       "551        “It’s a terrible thing, Joe; it ain’t true.”   \n",
       "374   “She ain’t in that line, Mum,” said Mr. Pumble...   \n",
       "977   “Alas, no, Monseigneur! But he lies yonder, un...   \n",
       "191   “He _was_, if ever a child was,” said my siste...   \n",
       "\n",
       "                                                 lemmas  \n",
       "2986  finger stop time retort angrily tell think spi...  \n",
       "1542  ai footstool cry flopson skirt like help tumbl...  \n",
       "1100  trivial incident belong routine life return mo...  \n",
       "1434                                       chapter xxii  \n",
       "1402  wear hat head look straight walk self contain ...  \n",
       "199   think romans aggravate nose restless people co...  \n",
       "2144                      say turnkey grin know jaggers  \n",
       "1850                                    forget long ago  \n",
       "2606            run lorry know brute wish little brandy  \n",
       "2815                            assuredly reply herbert  \n",
       "3186  bentley drummle say jaggers take decanter choi...  \n",
       "164   say hear carols ah observe joe ha bad doubt think  \n",
       "2779  defarge produce court quiet admit hear rapidly...  \n",
       "803             husband repeat miss havisham sister boy  \n",
       "69    apply set tea thing joe peep leg mentally cast...  \n",
       "3859  extend hand magnificently forgiving air break ...  \n",
       "1480   imitate action man impel forward butt end musket  \n",
       "38                             lord strike dead say man  \n",
       "2817                                         understand  \n",
       "605   wopsle majestic remembrance old discomfiture a...  \n",
       "222   wine shop keeper bull neck martial look man th...  \n",
       "3236               break ask air afraid hate bear speak  \n",
       "2649  fortunate precaution ensure far safety dreaded...  \n",
       "3245  far miss proceed cruncher alarming tendency ho...  \n",
       "1857  fool growl spend man wittle drink green mean know  \n",
       "3377  certain stop jaggers come manner self possess ...  \n",
       "986   orlick doubt lose signify hammer tell want com...  \n",
       "3159                                   temple think say  \n",
       "2686                                        go directly  \n",
       "2267                   biddy say think write sad matter  \n",
       "3607          button jack ask landlord vacillate weakly  \n",
       "526                             anybody ask pumblechook  \n",
       "2054                                  clara say herbert  \n",
       "1666                                                rob  \n",
       "964   monseigneur precipitate hill head person plung...  \n",
       "3531  resolution desert utter vain word appeal shout...  \n",
       "814                        joe remonstrate reply answer  \n",
       "732                     go wish happy return lift stick  \n",
       "1560  come knowledge pass pocket drummle attentive k...  \n",
       "2497  go leave lucie husband father child bright fir...  \n",
       "1846  remember certain famous occasion force confess...  \n",
       "2198                                           intimate  \n",
       "468                     tell ear say miss havisham bend  \n",
       "553                                                      \n",
       "1385  guardian take room lunch standing sandwich box...  \n",
       "2997  o estella answer bitter tear fall fast hand re...  \n",
       "551                          terrible thing joe ai true  \n",
       "374               ai line mum say pumblechook know well  \n",
       "977   alas monseigneur lie yonder little heap poor g...  \n",
       "191                       child say sister emphatically  "
      ]
     },
     "execution_count": 53,
     "metadata": {},
     "output_type": "execute_result"
    }
   ],
   "source": [
    "# sanity check\n",
    "final_df.sample(50)"
   ]
  },
  {
   "cell_type": "markdown",
   "metadata": {},
   "source": [
    "## Filter DataFrame\n",
    "Some of our rows likely just contain something like `CHAPTER III`. We can remove these \"junk rows\" out by creating a filter that filters out everything with fewer than 25 characters."
   ]
  },
  {
   "cell_type": "code",
   "execution_count": 54,
   "metadata": {},
   "outputs": [],
   "source": [
    "# filter out strings shorter than 25 characters\n",
    "length_filter = final_df['lemmas'].str.len() > 25"
   ]
  },
  {
   "cell_type": "code",
   "execution_count": 55,
   "metadata": {},
   "outputs": [],
   "source": [
    "filter_df = final_df[length_filter]"
   ]
  },
  {
   "cell_type": "code",
   "execution_count": 56,
   "metadata": {},
   "outputs": [
    {
     "data": {
      "text/html": [
       "<div>\n",
       "<style scoped>\n",
       "    .dataframe tbody tr th:only-of-type {\n",
       "        vertical-align: middle;\n",
       "    }\n",
       "\n",
       "    .dataframe tbody tr th {\n",
       "        vertical-align: top;\n",
       "    }\n",
       "\n",
       "    .dataframe thead th {\n",
       "        text-align: right;\n",
       "    }\n",
       "</style>\n",
       "<table border=\"1\" class=\"dataframe\">\n",
       "  <thead>\n",
       "    <tr style=\"text-align: right;\">\n",
       "      <th></th>\n",
       "      <th>author</th>\n",
       "      <th>title</th>\n",
       "      <th>text</th>\n",
       "      <th>lemmas</th>\n",
       "    </tr>\n",
       "  </thead>\n",
       "  <tbody>\n",
       "    <tr>\n",
       "      <th>0</th>\n",
       "      <td>Dickens</td>\n",
       "      <td>Tale</td>\n",
       "      <td>It was the best of times, it was the worst of ...</td>\n",
       "      <td>good time bad time age wisdom age foolishness ...</td>\n",
       "    </tr>\n",
       "    <tr>\n",
       "      <th>1</th>\n",
       "      <td>Dickens</td>\n",
       "      <td>Tale</td>\n",
       "      <td>There were a king with a large jaw and a queen...</td>\n",
       "      <td>king large jaw queen plain face throne england...</td>\n",
       "    </tr>\n",
       "    <tr>\n",
       "      <th>2</th>\n",
       "      <td>Dickens</td>\n",
       "      <td>Tale</td>\n",
       "      <td>It was the year of Our Lord one thousand seven...</td>\n",
       "      <td>year lord thousand seven seventy spiritual rev...</td>\n",
       "    </tr>\n",
       "    <tr>\n",
       "      <th>3</th>\n",
       "      <td>Dickens</td>\n",
       "      <td>Tale</td>\n",
       "      <td>France, less favoured on the whole as to matte...</td>\n",
       "      <td>france favour matter spiritual sister shield t...</td>\n",
       "    </tr>\n",
       "    <tr>\n",
       "      <th>4</th>\n",
       "      <td>Dickens</td>\n",
       "      <td>Tale</td>\n",
       "      <td>In England, there was scarcely an amount of or...</td>\n",
       "      <td>england scarcely order protection justify nati...</td>\n",
       "    </tr>\n",
       "  </tbody>\n",
       "</table>\n",
       "</div>"
      ],
      "text/plain": [
       "    author title                                               text  \\\n",
       "0  Dickens  Tale  It was the best of times, it was the worst of ...   \n",
       "1  Dickens  Tale  There were a king with a large jaw and a queen...   \n",
       "2  Dickens  Tale  It was the year of Our Lord one thousand seven...   \n",
       "3  Dickens  Tale  France, less favoured on the whole as to matte...   \n",
       "4  Dickens  Tale  In England, there was scarcely an amount of or...   \n",
       "\n",
       "                                              lemmas  \n",
       "0  good time bad time age wisdom age foolishness ...  \n",
       "1  king large jaw queen plain face throne england...  \n",
       "2  year lord thousand seven seventy spiritual rev...  \n",
       "3  france favour matter spiritual sister shield t...  \n",
       "4  england scarcely order protection justify nati...  "
      ]
     },
     "execution_count": 56,
     "metadata": {},
     "output_type": "execute_result"
    }
   ],
   "source": [
    "filter_df.head()"
   ]
  },
  {
   "cell_type": "code",
   "execution_count": 57,
   "metadata": {},
   "outputs": [],
   "source": [
    "# remove \\n and \\r characters from the text\n",
    "def remove_new_lines(text):\n",
    "    text = text.replace('\\n', ' ')\n",
    "    text = text.replace('\\r', ' ')\n",
    "    return text"
   ]
  },
  {
   "cell_type": "code",
   "execution_count": 58,
   "metadata": {},
   "outputs": [
    {
     "name": "stderr",
     "output_type": "stream",
     "text": [
      "C:\\Users\\enhwi\\AppData\\Local\\Temp\\ipykernel_69024\\872223428.py:2: SettingWithCopyWarning: \n",
      "A value is trying to be set on a copy of a slice from a DataFrame.\n",
      "Try using .loc[row_indexer,col_indexer] = value instead\n",
      "\n",
      "See the caveats in the documentation: https://pandas.pydata.org/pandas-docs/stable/user_guide/indexing.html#returning-a-view-versus-a-copy\n",
      "  filter_df['text'] = filter_df['text'].apply(remove_new_lines)\n"
     ]
    }
   ],
   "source": [
    "# apply above function, you can ignore the warning.\n",
    "filter_df['text'] = filter_df['text'].apply(remove_new_lines)"
   ]
  },
  {
   "cell_type": "code",
   "execution_count": 59,
   "metadata": {},
   "outputs": [],
   "source": [
    "# save our work\n",
    "filter_df.to_csv('dickens_novels.csv', index=False)"
   ]
  },
  {
   "cell_type": "code",
   "execution_count": null,
   "metadata": {},
   "outputs": [],
   "source": []
  }
 ],
 "metadata": {
  "kernelspec": {
   "display_name": "Python 3 (ipykernel)",
   "language": "python",
   "name": "python3"
  },
  "language_info": {
   "codemirror_mode": {
    "name": "ipython",
    "version": 3
   },
   "file_extension": ".py",
   "mimetype": "text/x-python",
   "name": "python",
   "nbconvert_exporter": "python",
   "pygments_lexer": "ipython3",
   "version": "3.11.4"
  }
 },
 "nbformat": 4,
 "nbformat_minor": 4
}
